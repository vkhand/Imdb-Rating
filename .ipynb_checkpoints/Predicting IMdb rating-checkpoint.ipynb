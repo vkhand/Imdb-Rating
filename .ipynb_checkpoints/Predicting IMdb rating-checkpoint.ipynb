{
 "cells": [
  {
   "cell_type": "markdown",
   "metadata": {},
   "source": [
    "# Let's load dataset"
   ]
  },
  {
   "cell_type": "code",
   "execution_count": 629,
   "metadata": {},
   "outputs": [],
   "source": [
    "import matplotlib.pyplot as plt\n",
    "import numpy as np\n",
    "import pandas as pd\n",
    "from sklearn.model_selection import train_test_split\n",
    "from sklearn.linear_model import  LinearRegression\n",
    "from sklearn.linear_model import  Lasso\n",
    "from sklearn.preprocessing import MinMaxScaler\n",
    "from tensorflow.python.keras.models import Sequential\n",
    "from tensorflow.python.keras.layers import Dense\n",
    "# from tensorflow.python.keras.wrappers.scikit_learn import KerasRegressor"
   ]
  },
  {
   "cell_type": "markdown",
   "metadata": {},
   "source": [
    "# PHASE 1: DATA ANALYSIS\n"
   ]
  },
  {
   "cell_type": "code",
   "execution_count": 455,
   "metadata": {},
   "outputs": [],
   "source": [
    "df = pd.read_csv('imdb_rating.csv')"
   ]
  },
  {
   "cell_type": "markdown",
   "metadata": {},
   "source": [
    "## let's look at the dataset"
   ]
  },
  {
   "cell_type": "code",
   "execution_count": 688,
   "metadata": {},
   "outputs": [
    {
     "data": {
      "text/html": [
       "<div>\n",
       "<style scoped>\n",
       "    .dataframe tbody tr th:only-of-type {\n",
       "        vertical-align: middle;\n",
       "    }\n",
       "\n",
       "    .dataframe tbody tr th {\n",
       "        vertical-align: top;\n",
       "    }\n",
       "\n",
       "    .dataframe thead th {\n",
       "        text-align: right;\n",
       "    }\n",
       "</style>\n",
       "<table border=\"1\" class=\"dataframe\">\n",
       "  <thead>\n",
       "    <tr style=\"text-align: right;\">\n",
       "      <th></th>\n",
       "      <th>Name of the movie</th>\n",
       "      <th>Link</th>\n",
       "      <th>Year released</th>\n",
       "      <th>IMDB rating</th>\n",
       "      <th>Number of reviewers</th>\n",
       "      <th>Genre 4</th>\n",
       "      <th>Release date</th>\n",
       "      <th>story summary</th>\n",
       "      <th>Director Name</th>\n",
       "      <th>Writer 1</th>\n",
       "      <th>...</th>\n",
       "      <th>len_3h</th>\n",
       "      <th>len_5h</th>\n",
       "      <th>censor_(Banned)</th>\n",
       "      <th>censor_A</th>\n",
       "      <th>censor_G</th>\n",
       "      <th>censor_PG</th>\n",
       "      <th>censor_PG-13</th>\n",
       "      <th>censor_R</th>\n",
       "      <th>censor_U</th>\n",
       "      <th>censor_UA</th>\n",
       "    </tr>\n",
       "  </thead>\n",
       "  <tbody>\n",
       "    <tr>\n",
       "      <th>0</th>\n",
       "      <td>The Shawshank Redemption</td>\n",
       "      <td>https://www.imdb.com/title/tt0111161/?pf_rd_m=...</td>\n",
       "      <td>1994</td>\n",
       "      <td>9.3</td>\n",
       "      <td>2041643</td>\n",
       "      <td>NaN</td>\n",
       "      <td>14October1994(USA)</td>\n",
       "      <td>Two imprisoned men bond over a number of years...</td>\n",
       "      <td>Frank Darabont</td>\n",
       "      <td>Stephen King (short story \"Rita Hayworth and S...</td>\n",
       "      <td>...</td>\n",
       "      <td>0</td>\n",
       "      <td>0</td>\n",
       "      <td>0</td>\n",
       "      <td>1</td>\n",
       "      <td>0</td>\n",
       "      <td>0</td>\n",
       "      <td>0</td>\n",
       "      <td>0</td>\n",
       "      <td>0</td>\n",
       "      <td>0</td>\n",
       "    </tr>\n",
       "    <tr>\n",
       "      <th>1</th>\n",
       "      <td>The Godfather</td>\n",
       "      <td>https://www.imdb.com/title/tt0068646/?pf_rd_m=...</td>\n",
       "      <td>1972</td>\n",
       "      <td>9.2</td>\n",
       "      <td>1400266</td>\n",
       "      <td>NaN</td>\n",
       "      <td>24March1972(USA)</td>\n",
       "      <td>The aging patriarch of an organized crime dyna...</td>\n",
       "      <td>Francis Ford Coppola</td>\n",
       "      <td>Mario Puzo (screenplay by)</td>\n",
       "      <td>...</td>\n",
       "      <td>0</td>\n",
       "      <td>0</td>\n",
       "      <td>0</td>\n",
       "      <td>1</td>\n",
       "      <td>0</td>\n",
       "      <td>0</td>\n",
       "      <td>0</td>\n",
       "      <td>0</td>\n",
       "      <td>0</td>\n",
       "      <td>0</td>\n",
       "    </tr>\n",
       "    <tr>\n",
       "      <th>2</th>\n",
       "      <td>The Godfather: Part II</td>\n",
       "      <td>https://www.imdb.com/title/tt0071562/?pf_rd_m=...</td>\n",
       "      <td>1974</td>\n",
       "      <td>9.0</td>\n",
       "      <td>970681</td>\n",
       "      <td>NaN</td>\n",
       "      <td>20December1974(USA)</td>\n",
       "      <td>The early life and career of Vito Corleone in ...</td>\n",
       "      <td>Francis Ford Coppola</td>\n",
       "      <td>Francis Ford Coppola (screenplay by)</td>\n",
       "      <td>...</td>\n",
       "      <td>1</td>\n",
       "      <td>0</td>\n",
       "      <td>0</td>\n",
       "      <td>0</td>\n",
       "      <td>0</td>\n",
       "      <td>0</td>\n",
       "      <td>0</td>\n",
       "      <td>0</td>\n",
       "      <td>0</td>\n",
       "      <td>0</td>\n",
       "    </tr>\n",
       "    <tr>\n",
       "      <th>3</th>\n",
       "      <td>The Dark Knight</td>\n",
       "      <td>https://www.imdb.com/title/tt0468569/?pf_rd_m=...</td>\n",
       "      <td>2008</td>\n",
       "      <td>9.0</td>\n",
       "      <td>2009174</td>\n",
       "      <td>NaN</td>\n",
       "      <td>18July2008(India)</td>\n",
       "      <td>When the menace known as the Joker emerges fro...</td>\n",
       "      <td>Christopher Nolan</td>\n",
       "      <td>Jonathan Nolan (screenplay)</td>\n",
       "      <td>...</td>\n",
       "      <td>0</td>\n",
       "      <td>0</td>\n",
       "      <td>0</td>\n",
       "      <td>0</td>\n",
       "      <td>0</td>\n",
       "      <td>0</td>\n",
       "      <td>0</td>\n",
       "      <td>0</td>\n",
       "      <td>0</td>\n",
       "      <td>1</td>\n",
       "    </tr>\n",
       "    <tr>\n",
       "      <th>4</th>\n",
       "      <td>12 Angry Men</td>\n",
       "      <td>https://www.imdb.com/title/tt0050083/?pf_rd_m=...</td>\n",
       "      <td>1957</td>\n",
       "      <td>8.9</td>\n",
       "      <td>574770</td>\n",
       "      <td>NaN</td>\n",
       "      <td>10April1957(USA)</td>\n",
       "      <td>A jury holdout attempts to prevent a miscarria...</td>\n",
       "      <td>Sidney Lumet</td>\n",
       "      <td>Reginald Rose (story)</td>\n",
       "      <td>...</td>\n",
       "      <td>0</td>\n",
       "      <td>0</td>\n",
       "      <td>0</td>\n",
       "      <td>0</td>\n",
       "      <td>0</td>\n",
       "      <td>0</td>\n",
       "      <td>0</td>\n",
       "      <td>0</td>\n",
       "      <td>0</td>\n",
       "      <td>0</td>\n",
       "    </tr>\n",
       "  </tbody>\n",
       "</table>\n",
       "<p>5 rows × 55 columns</p>\n",
       "</div>"
      ],
      "text/plain": [
       "          Name of the movie  \\\n",
       "0  The Shawshank Redemption   \n",
       "1             The Godfather   \n",
       "2    The Godfather: Part II   \n",
       "3           The Dark Knight   \n",
       "4              12 Angry Men   \n",
       "\n",
       "                                                Link  Year released  \\\n",
       "0  https://www.imdb.com/title/tt0111161/?pf_rd_m=...           1994   \n",
       "1  https://www.imdb.com/title/tt0068646/?pf_rd_m=...           1972   \n",
       "2  https://www.imdb.com/title/tt0071562/?pf_rd_m=...           1974   \n",
       "3  https://www.imdb.com/title/tt0468569/?pf_rd_m=...           2008   \n",
       "4  https://www.imdb.com/title/tt0050083/?pf_rd_m=...           1957   \n",
       "\n",
       "   IMDB rating Number of reviewers  Genre 4         Release date  \\\n",
       "0          9.3             2041643      NaN   14October1994(USA)   \n",
       "1          9.2             1400266      NaN     24March1972(USA)   \n",
       "2          9.0              970681      NaN  20December1974(USA)   \n",
       "3          9.0             2009174      NaN    18July2008(India)   \n",
       "4          8.9              574770      NaN     10April1957(USA)   \n",
       "\n",
       "                                       story summary         Director Name  \\\n",
       "0  Two imprisoned men bond over a number of years...        Frank Darabont   \n",
       "1  The aging patriarch of an organized crime dyna...  Francis Ford Coppola   \n",
       "2  The early life and career of Vito Corleone in ...  Francis Ford Coppola   \n",
       "3  When the menace known as the Joker emerges fro...     Christopher Nolan   \n",
       "4  A jury holdout attempts to prevent a miscarria...          Sidney Lumet   \n",
       "\n",
       "                                            Writer 1    ...    len_3h  len_5h  \\\n",
       "0  Stephen King (short story \"Rita Hayworth and S...    ...         0       0   \n",
       "1                         Mario Puzo (screenplay by)    ...         0       0   \n",
       "2               Francis Ford Coppola (screenplay by)    ...         1       0   \n",
       "3                        Jonathan Nolan (screenplay)    ...         0       0   \n",
       "4                              Reginald Rose (story)    ...         0       0   \n",
       "\n",
       "  censor_(Banned) censor_A censor_G  censor_PG  censor_PG-13 censor_R  \\\n",
       "0               0        1        0          0             0        0   \n",
       "1               0        1        0          0             0        0   \n",
       "2               0        0        0          0             0        0   \n",
       "3               0        0        0          0             0        0   \n",
       "4               0        0        0          0             0        0   \n",
       "\n",
       "  censor_U censor_UA  \n",
       "0        0         0  \n",
       "1        0         0  \n",
       "2        0         0  \n",
       "3        0         1  \n",
       "4        0         0  \n",
       "\n",
       "[5 rows x 55 columns]"
      ]
     },
     "execution_count": 688,
     "metadata": {},
     "output_type": "execute_result"
    }
   ],
   "source": [
    "df.head()"
   ]
  },
  {
   "cell_type": "markdown",
   "metadata": {},
   "source": [
    "## let's see the columns"
   ]
  },
  {
   "cell_type": "code",
   "execution_count": 459,
   "metadata": {},
   "outputs": [
    {
     "data": {
      "text/plain": [
       "Index(['Name of the movie', 'Link', 'Year released', 'IMDB rating',\n",
       "       'Number of reviewers', 'Censor board rating', 'Length of the movie',\n",
       "       'Genre 1', 'Genre 2', 'Genre 3', 'Genre 4', 'Release date',\n",
       "       'story summary', 'Director Name', 'Writer 1', 'Writer 2', 'Writer 3',\n",
       "       'Star 1', 'Star 2', 'Star 3', 'Star 4', 'Star 5', 'Plot Keywords list',\n",
       "       'Budget', 'Gross USA', 'Cumulative worlwide Gross',\n",
       "       'Production company'],\n",
       "      dtype='object')"
      ]
     },
     "execution_count": 459,
     "metadata": {},
     "output_type": "execute_result"
    }
   ],
   "source": [
    "df.columns"
   ]
  },
  {
   "cell_type": "markdown",
   "metadata": {},
   "source": [
    "# from first few data, we observe few genre columns and star columns are null. Let's check null values"
   ]
  },
  {
   "cell_type": "code",
   "execution_count": 461,
   "metadata": {},
   "outputs": [
    {
     "data": {
      "text/plain": [
       "Name of the movie              0\n",
       "Link                           0\n",
       "Year released                  0\n",
       "IMDB rating                    0\n",
       "Number of reviewers            0\n",
       "Censor board rating           93\n",
       "Length of the movie            0\n",
       "Genre 1                        0\n",
       "Genre 2                       27\n",
       "Genre 3                      109\n",
       "Genre 4                      250\n",
       "Release date                   0\n",
       "story summary                  0\n",
       "Director Name                  0\n",
       "Writer 1                       0\n",
       "Writer 2                      55\n",
       "Writer 3                     250\n",
       "Star 1                         0\n",
       "Star 2                         0\n",
       "Star 3                         0\n",
       "Star 4                       250\n",
       "Star 5                       250\n",
       "Plot Keywords list             0\n",
       "Budget                        27\n",
       "Gross USA                     29\n",
       "Cumulative worlwide Gross     97\n",
       "Production company             0\n",
       "dtype: int64"
      ]
     },
     "execution_count": 461,
     "metadata": {},
     "output_type": "execute_result"
    }
   ],
   "source": [
    "df.isna().sum()"
   ]
  },
  {
   "cell_type": "markdown",
   "metadata": {},
   "source": [
    "# we were right, genre4, writer3, star4,star5 are nothing but null values"
   ]
  },
  {
   "cell_type": "markdown",
   "metadata": {},
   "source": [
    "# Let's see all datatypes"
   ]
  },
  {
   "cell_type": "code",
   "execution_count": 464,
   "metadata": {},
   "outputs": [
    {
     "data": {
      "text/plain": [
       "Name of the movie             object\n",
       "Link                          object\n",
       "Year released                  int64\n",
       "IMDB rating                  float64\n",
       "Number of reviewers           object\n",
       "Censor board rating           object\n",
       "Length of the movie           object\n",
       "Genre 1                       object\n",
       "Genre 2                       object\n",
       "Genre 3                       object\n",
       "Genre 4                      float64\n",
       "Release date                  object\n",
       "story summary                 object\n",
       "Director Name                 object\n",
       "Writer 1                      object\n",
       "Writer 2                      object\n",
       "Writer 3                     float64\n",
       "Star 1                        object\n",
       "Star 2                        object\n",
       "Star 3                        object\n",
       "Star 4                       float64\n",
       "Star 5                       float64\n",
       "Plot Keywords list            object\n",
       "Budget                        object\n",
       "Gross USA                     object\n",
       "Cumulative worlwide Gross     object\n",
       "Production company            object\n",
       "dtype: object"
      ]
     },
     "execution_count": 464,
     "metadata": {},
     "output_type": "execute_result"
    }
   ],
   "source": [
    "df.dtypes"
   ]
  },
  {
   "cell_type": "markdown",
   "metadata": {},
   "source": [
    "# Most of the columns are object type, we will see how we can convert into respective types"
   ]
  },
  {
   "cell_type": "markdown",
   "metadata": {},
   "source": [
    "# let's see what do we have in genre1,genre2,genre3. \n",
    "## I guess  that few of them may have some genre common. Let's see"
   ]
  },
  {
   "cell_type": "code",
   "execution_count": 467,
   "metadata": {},
   "outputs": [
    {
     "data": {
      "text/plain": [
       "Drama        74\n",
       "Crime        37\n",
       "Action       32\n",
       "Adventure    28\n",
       "Comedy       26\n",
       "Animation    20\n",
       "Biography    20\n",
       "Mystery       4\n",
       "Western       3\n",
       "Horror        3\n",
       "Film-Noir     2\n",
       "Sci-Fi        1\n",
       "Name: Genre 1, dtype: int64"
      ]
     },
     "execution_count": 467,
     "metadata": {},
     "output_type": "execute_result"
    }
   ],
   "source": [
    "df['Genre 1'].value_counts()"
   ]
  },
  {
   "cell_type": "code",
   "execution_count": 468,
   "metadata": {},
   "outputs": [
    {
     "data": {
      "text/plain": [
       "Drama        87\n",
       "Adventure    28\n",
       "Romance      15\n",
       "Mystery      14\n",
       "Crime        12\n",
       "Thriller     12\n",
       "War           9\n",
       "Comedy        9\n",
       "Sci-Fi        9\n",
       "Family        8\n",
       "Biography     4\n",
       "Fantasy       3\n",
       "Sport         3\n",
       "Action        2\n",
       "Western       2\n",
       "History       2\n",
       "Music         1\n",
       "Horror        1\n",
       "Film-Noir     1\n",
       "Musical       1\n",
       "Name: Genre 2, dtype: int64"
      ]
     },
     "execution_count": 468,
     "metadata": {},
     "output_type": "execute_result"
    }
   ],
   "source": [
    "df['Genre 2'].value_counts()"
   ]
  },
  {
   "cell_type": "code",
   "execution_count": 469,
   "metadata": {},
   "outputs": [
    {
     "data": {
      "text/plain": [
       "Thriller     29\n",
       "Fantasy      19\n",
       "Drama        18\n",
       "History      14\n",
       "Sci-Fi       12\n",
       "Comedy        9\n",
       "Romance       9\n",
       "War           8\n",
       "Mystery       7\n",
       "Family        5\n",
       "Crime         2\n",
       "Adventure     2\n",
       "Music         2\n",
       "Western       1\n",
       "Film-Noir     1\n",
       "Sport         1\n",
       "Horror        1\n",
       "Musical       1\n",
       "Name: Genre 3, dtype: int64"
      ]
     },
     "execution_count": 469,
     "metadata": {},
     "output_type": "execute_result"
    }
   ],
   "source": [
    "df['Genre 3'].value_counts()"
   ]
  },
  {
   "cell_type": "markdown",
   "metadata": {},
   "source": [
    "# We observe that few genre like 'Drama', 'Thriller','Crime', etc. are present in two or more columns, we could use one-hot encoding(as seen later) to bring information out of it"
   ]
  },
  {
   "cell_type": "markdown",
   "metadata": {},
   "source": [
    "# Let's see what writer's columns consist of"
   ]
  },
  {
   "cell_type": "code",
   "execution_count": 472,
   "metadata": {},
   "outputs": [
    {
     "data": {
      "text/plain": [
       "Stanley Kubrick (screenplay)                                           4\n",
       "Stephen King (novel)                                                   3\n",
       "harles Chapli                                                          3\n",
       "J.R.R. Tolkien (novel)                                                 3\n",
       "Jonathan Nolan (screenplay)                                            3\n",
       "ayao Miyazak                                                           3\n",
       "Federico Fellini (story)                                               2\n",
       "Pete Docter (original story by)                                        2\n",
       "Quentin Tarantino                                                      2\n",
       "Ethan Coen                                                             2\n",
       "uentin Tarantin                                                        2\n",
       "ngmar Bergma                                                           2\n",
       "Andrew Stanton (original story by)                                     2\n",
       "Akira Kurosawa (screenplay)                                            2\n",
       "Billy Wilder (screenplay)                                              2\n",
       "James Cameron                                                          2\n",
       "Lawrence Kasdan (screenplay by)                                        2\n",
       "harles Chaplin (as Charlie Chaplin                                     2\n",
       "Graham Chapman                                                         2\n",
       "Nicholas Pileggi (book)                                                2\n",
       "uy Ritchi                                                              2\n",
       "Lew Wallace (novel) (as General Lew Wallace)                           1\n",
       "Jonathan Nolan                                                         1\n",
       "Christopher Markus (screenplay by)                                     1\n",
       "Tobias Lindholm (screenplay)                                           1\n",
       "Lawrence Hauben (screenplay)                                           1\n",
       "hristopher Nola                                                        1\n",
       "Kôgo Noda (scenario)                                                   1\n",
       "Bill Lancaster (screenplay)                                            1\n",
       "om Schulma                                                             1\n",
       "                                                                      ..\n",
       "Jake LaMotta (based on the book by) (as Jake La Motta)                 1\n",
       "ichael Man                                                             1\n",
       "Stephen P. Lindsey (screenplay)                                        1\n",
       "Olivier Nakache                                                        1\n",
       "Dan O'Bannon (story)                                                   1\n",
       "avid McKenn                                                            1\n",
       "Thea von Harbou (screenplay)                                           1\n",
       "Frederick Knott (screen play)                                          1\n",
       "James Cameron (story by)                                               1\n",
       "Stephen King (short story \"Rita Hayworth and Shawshank Redemption\")    1\n",
       "Pierre Boulle (novel)                                                  1\n",
       "Hayao Miyazaki (comic)                                                 1\n",
       "illiam Goldma                                                          1\n",
       "Budd Schulberg (screenplay)                                            1\n",
       "Lilly Wachowski (screenplay) (as The Wachowski Brothers)               1\n",
       "Jean C. Havez (story) (as Jean Havez)                                  1\n",
       "Arijit Biswas                                                          1\n",
       "ngmar Bergman (story and screenplay                                    1\n",
       "Gavin O'Connor (screenplay)                                            1\n",
       "oseph L. Mankiewicz (written for the screen by                         1\n",
       "Sergio Leone (scenario)                                                1\n",
       "Agatha Christie (in Agatha Christie's international stage success)     1\n",
       "liver Ston                                                             1\n",
       "Terence Winter (screenplay)                                            1\n",
       "Carl Mayer (scenario)                                                  1\n",
       "Julius J. Epstein (screenplay)                                         1\n",
       "Paulo Lins (novel)                                                     1\n",
       "Sergio Donati (screenplay by)                                          1\n",
       "John Huston (screen play by)                                           1\n",
       "aul Schrade                                                            1\n",
       "Name: Writer 1, Length: 222, dtype: int64"
      ]
     },
     "execution_count": 472,
     "metadata": {},
     "output_type": "execute_result"
    }
   ],
   "source": [
    "df['Writer 1'].value_counts()"
   ]
  },
  {
   "cell_type": "code",
   "execution_count": 473,
   "metadata": {},
   "outputs": [
    {
     "data": {
      "text/plain": [
       " Christopher Nolan (screenplay)                                                        3\n",
       " Fran Walsh (screenplay)                                                               3\n",
       " Akira Kurosawa (screenplay)                                                           2\n",
       " Joel Coe                                                                              2\n",
       " Ennio Flaiano (story)                                                                 2\n",
       " Nicholas Pileggi (screenplay)                                                         2\n",
       " John Cleese                                                                           2\n",
       " Frank Darabont (screenplay                                                            2\n",
       " Pete Docter (original story by)                                                       2\n",
       " Hideo Oguni (screenplay)                                                              2\n",
       " Ales Adamovich (screenplay) (as A. Adamovich)                                         1\n",
       " Sergio Leone (screenplay by)                                                          1\n",
       " Peter Shaffer (original screenplay                                                    1\n",
       " Sam Shepard                                                                           1\n",
       " Reginald Rose (screenplay                                                             1\n",
       " Ronnie Del Carmen (original story by)                                                 1\n",
       " Lana Wachowski (as The Wachowski Brothers                                             1\n",
       " Eric Roth (screenplay                                                                 1\n",
       " Giuseppe Tornatore (screenplay)                                                       1\n",
       " Wes Anderson (screenplay)                                                             1\n",
       " Francis Ford Coppola (screenplay by)                                                  1\n",
       " Ben Afflec                                                                            1\n",
       " Joachim Fest (book)                                                                   1\n",
       " Raymond Chandler (screenplay)                                                         1\n",
       " Scott Frank (screenplay by)                                                           1\n",
       " Gale Anne Hurd                                                                        1\n",
       " George Lucas (screenplay by)                                                          1\n",
       " Cornell Woolrich (based on the short story by                                         1\n",
       " Hubert Selby Jr. (screenplay)                                                         1\n",
       " Calder Willingham (screenplay)                                                        1\n",
       "                                                                                      ..\n",
       " Jill Culton (original story by)                                                       1\n",
       " Frederick Knott (adapted from his play                                                1\n",
       " Harold Ramis (screenplay)                                                             1\n",
       " Samuel A. Taylor (screenplay by) (as Samuel Taylor)                                   1\n",
       " Gillian Flynn (novel                                                                  1\n",
       " Neil Gaiman (adapted by: English version                                              1\n",
       " Adolph Green (story by                                                                1\n",
       " Isao Takahat                                                                          1\n",
       " Boris Strugatskiy (novel)                                                             1\n",
       " David Giler (story by)                                                                1\n",
       " Billy Wilder (screen play)                                                            1\n",
       " Juan José Campanella (screenplay)                                                     1\n",
       " Michael Herr (screenplay by)                                                          1\n",
       " Robert E. Sherwood (screen play)                                                      1\n",
       " Ted Tally (screenplay                                                                 1\n",
       " Budd Schulberg (based upon an original story by)                                      1\n",
       " Roberto Benigni (story and screenplay by                                              1\n",
       " Terry Georg                                                                           1\n",
       " Andrew Knight (screenplay by                                                          1\n",
       " Kathryn Stockett (novel                                                               1\n",
       " Upton Sinclair (novel                                                                 1\n",
       " Henri-Georges Clouzot (adaptation) (as H.G. Clouzot)                                  1\n",
       " David Webb Peoples (screenplay) (as David Peoples)                                    1\n",
       " Thea von Harbou (novel                                                                1\n",
       " Anthony Burgess (novel                                                                1\n",
       " Sergio Leone (story)                                                                  1\n",
       " George Lucas (story)                                                                  1\n",
       " Deric Washburn (story)                                                                1\n",
       " Hermann Sudermann (from an original theme by)                                         1\n",
       " Philippe Pozzo di Borgo (adapted from his autobiographical tale Le Second Souffle)    1\n",
       "Name: Writer 2, Length: 183, dtype: int64"
      ]
     },
     "execution_count": 473,
     "metadata": {},
     "output_type": "execute_result"
    }
   ],
   "source": [
    "df['Writer 2'].value_counts()"
   ]
  },
  {
   "cell_type": "code",
   "execution_count": 474,
   "metadata": {},
   "outputs": [
    {
     "data": {
      "text/plain": [
       "Series([], Name: Writer 3, dtype: int64)"
      ]
     },
     "execution_count": 474,
     "metadata": {},
     "output_type": "execute_result"
    }
   ],
   "source": [
    "df['Writer 3'].value_counts()\n",
    "#Writer 3 has null values"
   ]
  },
  {
   "cell_type": "markdown",
   "metadata": {},
   "source": [
    "## Woah, that's lots of unique writers. We won't use this as features for our model. However, we can in future extract top 10-20 writers and have prediction based on that"
   ]
  },
  {
   "cell_type": "markdown",
   "metadata": {},
   "source": [
    "# Let's see stars columns"
   ]
  },
  {
   "cell_type": "code",
   "execution_count": 477,
   "metadata": {},
   "outputs": [
    {
     "data": {
      "text/plain": [
       "Robert De Niro           6\n",
       "Charles Chaplin          5\n",
       "Tom Hanks                5\n",
       "Leonardo DiCaprio        5\n",
       "Clint Eastwood           4\n",
       "Christian Bale           4\n",
       "Toshirô Mifune           4\n",
       "Aamir Khan               4\n",
       "James Stewart            4\n",
       "Harrison Ford            3\n",
       "Henry Fonda              3\n",
       "Mark Hamill              3\n",
       "Elijah Wood              3\n",
       "Jack Nicholson           3\n",
       "Humphrey Bogart          3\n",
       "Paul Newman              3\n",
       "Al Pacino                3\n",
       "Kevin Spacey             3\n",
       "Ryan O'Neal              2\n",
       "Robin Williams           2\n",
       "Brad Pitt                2\n",
       "Marlon Brando            2\n",
       "Buster Keaton            2\n",
       "Orson Welles             2\n",
       "Russell Crowe            2\n",
       "Arnold Schwarzenegger    2\n",
       "Tom Hardy                2\n",
       "Daniel Day-Lewis         2\n",
       "Bruce Willis             2\n",
       "Jim Carrey               2\n",
       "                        ..\n",
       "Çetin Tekindor           1\n",
       "Tatsuya Nakadai          1\n",
       "Hugo Weaving             1\n",
       "Sumi Shimamoto           1\n",
       "Martin Sheen             1\n",
       "Marcello Mastroianni     1\n",
       "Toni Collette            1\n",
       "Morgan Freeman           1\n",
       "Malcolm McDowell         1\n",
       "Michael J. Fox           1\n",
       "Mads Mikkelsen           1\n",
       "Spencer Tracy            1\n",
       "John Travolta            1\n",
       "Jean-Pierre Léaud        1\n",
       "Jay Baruchel             1\n",
       "Ben Kingsley             1\n",
       "Sener Sen                1\n",
       "Charlton Heston          1\n",
       "Andrew Garfield          1\n",
       "Mark Ruffalo             1\n",
       "Harvey Keitel            1\n",
       "Emma Stone               1\n",
       "Lamberto Maggiorani      1\n",
       "Jake Gyllenhaal          1\n",
       "Keir Dullea              1\n",
       "Chiwetel Ejiofor         1\n",
       "Emile Hirsch             1\n",
       "Steve McQueen            1\n",
       "Johnny Depp              1\n",
       "Jason Statham            1\n",
       "Name: Star 1, Length: 182, dtype: int64"
      ]
     },
     "execution_count": 477,
     "metadata": {},
     "output_type": "execute_result"
    }
   ],
   "source": [
    "df['Star 1'].value_counts()"
   ]
  },
  {
   "cell_type": "code",
   "execution_count": 478,
   "metadata": {},
   "outputs": [
    {
     "data": {
      "text/plain": [
       " Harrison Ford             3\n",
       " Matt Damon                3\n",
       " Chris Hemsworth           2\n",
       " John Goodman              2\n",
       " Ed Harris                 2\n",
       " Alec Guinness             2\n",
       " Linda Hamilton            2\n",
       " Tim Allen                 2\n",
       " Julie Delpy               2\n",
       " John Cleese               2\n",
       " Grace Kelly               2\n",
       " Robert De Niro            2\n",
       " Ian McKellen              2\n",
       " Brad Pitt                 2\n",
       " Paulette Goddard          2\n",
       " Joseph Cotten             2\n",
       " Gael García Bernal        2\n",
       " Robert Redford            2\n",
       " J.K. Simmons              1\n",
       " Marion Mack               1\n",
       " Edward Furlong            1\n",
       " Andie MacDowell           1\n",
       " Joaquin Phoenix           1\n",
       " Enzo Staiola              1\n",
       " Takashi Shimura           1\n",
       " Paul Dano                 1\n",
       " Eugene Silvain            1\n",
       " Leandro Firmino           1\n",
       " Faye Dunaway              1\n",
       " Marlon Brando             1\n",
       "                          ..\n",
       " Lee Van Cleef             1\n",
       " Shelley Duvall            1\n",
       " Michael Clarke Duncan     1\n",
       " Wilford Brimley           1\n",
       " Morgan Freeman            1\n",
       " Sean Connery              1\n",
       " Mack Swain                1\n",
       " Soledad Villamil          1\n",
       " Ray Liotta                1\n",
       " Gary Oldman               1\n",
       " Omar Sy                   1\n",
       " Richa Chadha              1\n",
       " Gerard Butler             1\n",
       " John Gielgud              1\n",
       " Anne Hathaway             1\n",
       " Tom Hulce                 1\n",
       " Thomas Bo Larsen          1\n",
       " Ariadna Gil               1\n",
       " Javier Bardem             1\n",
       " Tom Skerritt              1\n",
       " Jared Leto                1\n",
       " Louise Fletcher           1\n",
       " Uma Thurman               1\n",
       " Donald O'Connor           1\n",
       " River Phoenix             1\n",
       " Alfred Abel               1\n",
       " Amir Farrokh Hashemian    1\n",
       " Lucy Boynton              1\n",
       " Marisa Berenson           1\n",
       " John Hurt                 1\n",
       "Name: Star 2, Length: 230, dtype: int64"
      ]
     },
     "execution_count": 478,
     "metadata": {},
     "output_type": "execute_result"
    }
   ],
   "source": [
    "df['Star 2'].value_counts()"
   ]
  },
  {
   "cell_type": "markdown",
   "metadata": {},
   "source": [
    "## Okay, again we have too many stars in our dataset. Maybe few of them are common but again that's a lots. We leave this columns same as writer and may look at top 10-20 stars for prediction"
   ]
  },
  {
   "cell_type": "markdown",
   "metadata": {},
   "source": [
    "## Let's look at Censor board rating"
   ]
  },
  {
   "cell_type": "code",
   "execution_count": 481,
   "metadata": {},
   "outputs": [
    {
     "data": {
      "text/plain": [
       "R           49\n",
       "A           35\n",
       "PG          23\n",
       "UA          21\n",
       "PG-13       14\n",
       "U           11\n",
       "G            3\n",
       "(Banned)     1\n",
       "Name: Censor board rating, dtype: int64"
      ]
     },
     "execution_count": 481,
     "metadata": {},
     "output_type": "execute_result"
    }
   ],
   "source": [
    "df['Censor board rating'].value_counts()"
   ]
  },
  {
   "cell_type": "markdown",
   "metadata": {},
   "source": [
    "## Great, we have 7 different censor board rating and 1 banned movie. We'll take into account all these ratings for prediction"
   ]
  },
  {
   "cell_type": "code",
   "execution_count": 483,
   "metadata": {},
   "outputs": [
    {
     "data": {
      "text/plain": [
       "'Two imprisoned men bond over a number of years, finding solace and eventual redemption through acts of common decency.'"
      ]
     },
     "execution_count": 483,
     "metadata": {},
     "output_type": "execute_result"
    }
   ],
   "source": [
    "# Let's look what story summary has\n",
    "df['story summary'][0]"
   ]
  },
  {
   "cell_type": "code",
   "execution_count": 484,
   "metadata": {},
   "outputs": [
    {
     "data": {
      "text/plain": [
       "'The aging patriarch of an organized crime dynasty transfers control of his clandestine empire to his reluctant son.'"
      ]
     },
     "execution_count": 484,
     "metadata": {},
     "output_type": "execute_result"
    }
   ],
   "source": [
    "df['story summary'][1]"
   ]
  },
  {
   "cell_type": "markdown",
   "metadata": {},
   "source": [
    "## So we see that story summary gives a jist of movie. We could happily use NLP to rate the story out of 5 or something and hope for better prediction"
   ]
  },
  {
   "cell_type": "code",
   "execution_count": 486,
   "metadata": {},
   "outputs": [
    {
     "data": {
      "text/plain": [
       "Index(['Name of the movie', 'Link', 'Year released', 'IMDB rating',\n",
       "       'Number of reviewers', 'Censor board rating', 'Length of the movie',\n",
       "       'Genre 1', 'Genre 2', 'Genre 3', 'Genre 4', 'Release date',\n",
       "       'story summary', 'Director Name', 'Writer 1', 'Writer 2', 'Writer 3',\n",
       "       'Star 1', 'Star 2', 'Star 3', 'Star 4', 'Star 5', 'Plot Keywords list',\n",
       "       'Budget', 'Gross USA', 'Cumulative worlwide Gross',\n",
       "       'Production company'],\n",
       "      dtype='object')"
      ]
     },
     "execution_count": 486,
     "metadata": {},
     "output_type": "execute_result"
    }
   ],
   "source": [
    "df.columns"
   ]
  },
  {
   "cell_type": "code",
   "execution_count": 487,
   "metadata": {},
   "outputs": [
    {
     "data": {
      "text/plain": [
       "0    wrongful imprisonment| escape from prison| bas...\n",
       "1    mafia| crime family| patriarch| organized crim...\n",
       "2    revenge| corrupt politician| bloody body of ch...\n",
       "3    dc comics| moral dilemma| psychopath| clown| s...\n",
       "4    jury| dialogue driven| courtroom| trial| preju...\n",
       "Name: Plot Keywords list, dtype: object"
      ]
     },
     "execution_count": 487,
     "metadata": {},
     "output_type": "execute_result"
    }
   ],
   "source": [
    "df['Plot Keywords list'][0:5]"
   ]
  },
  {
   "cell_type": "markdown",
   "metadata": {},
   "source": [
    "## Plot keywords again have many keywords, we can use advanced concepts to gain knowledge from these keywords. Maybe we can extract few important keywords and use it in our prediction"
   ]
  },
  {
   "cell_type": "markdown",
   "metadata": {},
   "source": [
    "## Ok, we had too many information in terms of keywords, writers, stars, story summary, etc.\n",
    "## Let's check next 3 columns, budget, Gross USA, Cumulative worldwide gross. I hope we get proper integers in these columns :p"
   ]
  },
  {
   "cell_type": "code",
   "execution_count": 490,
   "metadata": {},
   "outputs": [
    {
     "data": {
      "text/plain": [
       "0     $25,000,000 (estimated) \n",
       "1      $6,000,000 (estimated) \n",
       "2     $13,000,000 (estimated) \n",
       "3    $185,000,000 (estimated) \n",
       "4        $350,000 (estimated) \n",
       "Name: Budget, dtype: object"
      ]
     },
     "execution_count": 490,
     "metadata": {},
     "output_type": "execute_result"
    }
   ],
   "source": [
    "df['Budget'].head()"
   ]
  },
  {
   "cell_type": "code",
   "execution_count": 491,
   "metadata": {},
   "outputs": [
    {
     "data": {
      "text/plain": [
       "0                $28,341,469\n",
       "1     $134,966,411,11May1997\n",
       "2                $57,300,000\n",
       "3    $534,858,444,19July2012\n",
       "4                 $4,360,000\n",
       "Name: Gross USA, dtype: object"
      ]
     },
     "execution_count": 491,
     "metadata": {},
     "output_type": "execute_result"
    }
   ],
   "source": [
    "df['Gross USA'].head()"
   ]
  },
  {
   "cell_type": "code",
   "execution_count": 492,
   "metadata": {},
   "outputs": [
    {
     "data": {
      "text/plain": [
       "0                     $58,500,000\n",
       "1                    $245,066,411\n",
       "2                             NaN\n",
       "3    $1,004,558,444, 19 July 2012\n",
       "4                             NaN\n",
       "Name: Cumulative worlwide Gross, dtype: object"
      ]
     },
     "execution_count": 492,
     "metadata": {},
     "output_type": "execute_result"
    }
   ],
   "source": [
    "df['Cumulative worlwide Gross'].head()"
   ]
  },
  {
   "cell_type": "code",
   "execution_count": 493,
   "metadata": {},
   "outputs": [
    {
     "data": {
      "text/plain": [
       "27"
      ]
     },
     "execution_count": 493,
     "metadata": {},
     "output_type": "execute_result"
    }
   ],
   "source": [
    "df['Budget'].isna().sum()"
   ]
  },
  {
   "cell_type": "code",
   "execution_count": 494,
   "metadata": {},
   "outputs": [
    {
     "data": {
      "text/plain": [
       "29"
      ]
     },
     "execution_count": 494,
     "metadata": {},
     "output_type": "execute_result"
    }
   ],
   "source": [
    "df['Gross USA'].isna().sum()"
   ]
  },
  {
   "cell_type": "code",
   "execution_count": 495,
   "metadata": {},
   "outputs": [
    {
     "data": {
      "text/plain": [
       "97"
      ]
     },
     "execution_count": 495,
     "metadata": {},
     "output_type": "execute_result"
    }
   ],
   "source": [
    "df['Cumulative worlwide Gross'].isna().sum()"
   ]
  },
  {
   "cell_type": "markdown",
   "metadata": {},
   "source": [
    "## Observation: Ok, we need a lots of cleaning in these columns. We see '$',',' and date formats in these columns. We need to clean these unwanted information and extract only the value in integer format"
   ]
  },
  {
   "cell_type": "markdown",
   "metadata": {},
   "source": [
    "## let's look at number of reviewers, it doesn't have null. But let's see what does it holds"
   ]
  },
  {
   "cell_type": "code",
   "execution_count": 498,
   "metadata": {},
   "outputs": [
    {
     "data": {
      "text/plain": [
       "0    2,041,643\n",
       "1    1,400,266\n",
       "2      970,681\n",
       "3    2,009,174\n",
       "4      574,770\n",
       "Name: Number of reviewers, dtype: object"
      ]
     },
     "execution_count": 498,
     "metadata": {},
     "output_type": "execute_result"
    }
   ],
   "source": [
    "df['Number of reviewers'].head()"
   ]
  },
  {
   "cell_type": "markdown",
   "metadata": {},
   "source": [
    "## OK, so it simply tells us how many people reviewed the movie. Which of course could be an important factor"
   ]
  },
  {
   "cell_type": "code",
   "execution_count": 500,
   "metadata": {},
   "outputs": [
    {
     "data": {
      "text/plain": [
       "0    2h22min\n",
       "1    2h55min\n",
       "2    3h22min\n",
       "3    2h32min\n",
       "4    1h36min\n",
       "Name: Length of the movie, dtype: object"
      ]
     },
     "execution_count": 500,
     "metadata": {},
     "output_type": "execute_result"
    }
   ],
   "source": [
    "df['Length of the movie'].head()"
   ]
  },
  {
   "cell_type": "code",
   "execution_count": 501,
   "metadata": {},
   "outputs": [
    {
     "data": {
      "text/plain": [
       "'1h20min'"
      ]
     },
     "execution_count": 501,
     "metadata": {},
     "output_type": "execute_result"
    }
   ],
   "source": [
    "min(df['Length of the movie'])"
   ]
  },
  {
   "cell_type": "code",
   "execution_count": 502,
   "metadata": {},
   "outputs": [
    {
     "data": {
      "text/plain": [
       "'5h21min'"
      ]
     },
     "execution_count": 502,
     "metadata": {},
     "output_type": "execute_result"
    }
   ],
   "source": [
    "max(df['Length of the movie'])"
   ]
  },
  {
   "cell_type": "markdown",
   "metadata": {},
   "source": [
    "## We could divide lenght of the movie based on number of hours, each with an interval of 1 hour"
   ]
  },
  {
   "cell_type": "markdown",
   "metadata": {},
   "source": [
    "## So we are done with data analysis, and we've come into conclusion about the columns we could use for prediction. Obviously we need to clean these data before proceding to model"
   ]
  },
  {
   "cell_type": "code",
   "execution_count": 505,
   "metadata": {},
   "outputs": [],
   "source": [
    "# Important features are [ 'Year released', 'IMDB rating',\n",
    "#       'Number of reviewers', 'Censor board rating', 'Length of the movie',\n",
    "#       'Genre 1', 'Genre 2', 'Genre 3', 'Writer 1', 'Writer 2',\n",
    "#       'Star 1', 'Star 2', 'Star 3',\n",
    "#       'Budget', 'Gross USA', 'Cumulative worlwide Gross']"
   ]
  },
  {
   "cell_type": "markdown",
   "metadata": {},
   "source": [
    "# PHASE 2: CLEANING DATASET\n",
    "## LET'S START CLEANING"
   ]
  },
  {
   "cell_type": "code",
   "execution_count": 507,
   "metadata": {},
   "outputs": [],
   "source": [
    "# Let's just store a copy of dataset. Just in case we need the original dataset\n",
    "df1= df"
   ]
  },
  {
   "cell_type": "code",
   "execution_count": 508,
   "metadata": {},
   "outputs": [],
   "source": [
    "df = pd.get_dummies(df, columns=[\"Genre 1\", \"Genre 2\",\"Genre 3\"], prefix=[\"gen1\",\"gen2\",\"gen3\"])"
   ]
  },
  {
   "cell_type": "code",
   "execution_count": 509,
   "metadata": {},
   "outputs": [
    {
     "data": {
      "text/plain": [
       "Index(['Name of the movie', 'Link', 'Year released', 'IMDB rating',\n",
       "       'Number of reviewers', 'Censor board rating', 'Length of the movie',\n",
       "       'Genre 4', 'Release date', 'story summary', 'Director Name', 'Writer 1',\n",
       "       'Writer 2', 'Writer 3', 'Star 1', 'Star 2', 'Star 3', 'Star 4',\n",
       "       'Star 5', 'Plot Keywords list', 'Budget', 'Gross USA',\n",
       "       'Cumulative worlwide Gross', 'Production company', 'gen1_Action',\n",
       "       'gen1_Adventure', 'gen1_Animation', 'gen1_Biography', 'gen1_Comedy',\n",
       "       'gen1_Crime', 'gen1_Drama', 'gen1_Film-Noir', 'gen1_Horror',\n",
       "       'gen1_Mystery', 'gen1_Sci-Fi', 'gen1_Western', 'gen2_Action',\n",
       "       'gen2_Adventure', 'gen2_Biography', 'gen2_Comedy', 'gen2_Crime',\n",
       "       'gen2_Drama', 'gen2_Family', 'gen2_Fantasy', 'gen2_Film-Noir',\n",
       "       'gen2_History', 'gen2_Horror', 'gen2_Music', 'gen2_Musical',\n",
       "       'gen2_Mystery', 'gen2_Romance', 'gen2_Sci-Fi', 'gen2_Sport',\n",
       "       'gen2_Thriller', 'gen2_War', 'gen2_Western', 'gen3_Adventure',\n",
       "       'gen3_Comedy', 'gen3_Crime', 'gen3_Drama', 'gen3_Family',\n",
       "       'gen3_Fantasy', 'gen3_Film-Noir', 'gen3_History', 'gen3_Horror',\n",
       "       'gen3_Music', 'gen3_Musical', 'gen3_Mystery', 'gen3_Romance',\n",
       "       'gen3_Sci-Fi', 'gen3_Sport', 'gen3_Thriller', 'gen3_War',\n",
       "       'gen3_Western'],\n",
       "      dtype='object')"
      ]
     },
     "execution_count": 509,
     "metadata": {},
     "output_type": "execute_result"
    }
   ],
   "source": [
    "df.columns"
   ]
  },
  {
   "cell_type": "markdown",
   "metadata": {},
   "source": [
    "### I performed one-hot-encoding to generate unique genre. \n",
    "### But observe that genre like drama is present as \"gen1_Drama\",\"gen2_Drama\",\"gen3_Drama\". Let;s remove this redundancy."
   ]
  },
  {
   "cell_type": "code",
   "execution_count": 511,
   "metadata": {},
   "outputs": [],
   "source": [
    "# Unique genre among all 3\n",
    "unique_genre = set(df1['Genre 1']).union(set(df1['Genre 2'])).union(set(df1['Genre 3']))"
   ]
  },
  {
   "cell_type": "code",
   "execution_count": 512,
   "metadata": {},
   "outputs": [
    {
     "data": {
      "text/plain": [
       "{'Action',\n",
       " 'Adventure',\n",
       " 'Animation',\n",
       " 'Biography',\n",
       " 'Comedy',\n",
       " 'Crime',\n",
       " 'Drama',\n",
       " 'Family',\n",
       " 'Fantasy',\n",
       " 'Film-Noir',\n",
       " 'History',\n",
       " 'Horror',\n",
       " 'Music',\n",
       " 'Musical',\n",
       " 'Mystery',\n",
       " 'Romance',\n",
       " 'Sci-Fi',\n",
       " 'Sport',\n",
       " 'Thriller',\n",
       " 'War',\n",
       " 'Western',\n",
       " nan}"
      ]
     },
     "execution_count": 512,
     "metadata": {},
     "output_type": "execute_result"
    }
   ],
   "source": [
    "unique_genre"
   ]
  },
  {
   "cell_type": "code",
   "execution_count": 513,
   "metadata": {},
   "outputs": [],
   "source": [
    "# converted to list, because we need it for iterating as seen in next box\n",
    "unique_genre1 = list(unique_genre)"
   ]
  },
  {
   "cell_type": "markdown",
   "metadata": {},
   "source": [
    "## below algorithm removes redundancy and gives us a smooth genre columns"
   ]
  },
  {
   "cell_type": "code",
   "execution_count": 515,
   "metadata": {},
   "outputs": [],
   "source": [
    "for i in unique_genre1:\n",
    "    name1 = 'gen1_'+str(i)\n",
    "    name2 = 'gen2_'+str(i)\n",
    "    name3 = 'gen3_'+str(i)\n",
    "    \n",
    "    if(name1 in df):\n",
    "        if(('new_'+str(i)) in df):\n",
    "            df['new_'+i] = df['new_'+i]+ df[name1]\n",
    "            df.drop(name1,axis=1,inplace=True)\n",
    "        else:\n",
    "            df['new_'+i] = df[name1]\n",
    "            df.drop(name1,axis=1,inplace=True)\n",
    "    if(name2 in df):\n",
    "        if(('new_'+str(i)) in df):\n",
    "            df['new_'+i] = df['new_'+i] + df[name2]\n",
    "            df.drop(name2,axis=1,inplace=True)\n",
    "        else:\n",
    "            df['new_'+i] = df[name2]\n",
    "            df.drop(name2,axis=1,inplace=True)\n",
    "    if(name3 in df):\n",
    "        if(('new_'+str(i)) in df):\n",
    "            df['new_'+i] = df['new_'+i] + df[name3]\n",
    "            df.drop(name3,axis=1,inplace=True)\n",
    "        else:\n",
    "            df['new_'+i] = df[name3]\n",
    "            df.drop(name3,axis=1,inplace=True)"
   ]
  },
  {
   "cell_type": "markdown",
   "metadata": {},
   "source": [
    "## let's look at dataset"
   ]
  },
  {
   "cell_type": "code",
   "execution_count": 517,
   "metadata": {},
   "outputs": [
    {
     "data": {
      "text/html": [
       "<div>\n",
       "<style scoped>\n",
       "    .dataframe tbody tr th:only-of-type {\n",
       "        vertical-align: middle;\n",
       "    }\n",
       "\n",
       "    .dataframe tbody tr th {\n",
       "        vertical-align: top;\n",
       "    }\n",
       "\n",
       "    .dataframe thead th {\n",
       "        text-align: right;\n",
       "    }\n",
       "</style>\n",
       "<table border=\"1\" class=\"dataframe\">\n",
       "  <thead>\n",
       "    <tr style=\"text-align: right;\">\n",
       "      <th></th>\n",
       "      <th>Name of the movie</th>\n",
       "      <th>Link</th>\n",
       "      <th>Year released</th>\n",
       "      <th>IMDB rating</th>\n",
       "      <th>Number of reviewers</th>\n",
       "      <th>Censor board rating</th>\n",
       "      <th>Length of the movie</th>\n",
       "      <th>Genre 4</th>\n",
       "      <th>Release date</th>\n",
       "      <th>story summary</th>\n",
       "      <th>...</th>\n",
       "      <th>new_Horror</th>\n",
       "      <th>new_Sport</th>\n",
       "      <th>new_Adventure</th>\n",
       "      <th>new_Crime</th>\n",
       "      <th>new_Western</th>\n",
       "      <th>new_History</th>\n",
       "      <th>new_Film-Noir</th>\n",
       "      <th>new_Comedy</th>\n",
       "      <th>new_Animation</th>\n",
       "      <th>new_Action</th>\n",
       "    </tr>\n",
       "  </thead>\n",
       "  <tbody>\n",
       "    <tr>\n",
       "      <th>0</th>\n",
       "      <td>The Shawshank Redemption</td>\n",
       "      <td>https://www.imdb.com/title/tt0111161/?pf_rd_m=...</td>\n",
       "      <td>1994</td>\n",
       "      <td>9.3</td>\n",
       "      <td>2,041,643</td>\n",
       "      <td>A</td>\n",
       "      <td>2h22min</td>\n",
       "      <td>NaN</td>\n",
       "      <td>14October1994(USA)</td>\n",
       "      <td>Two imprisoned men bond over a number of years...</td>\n",
       "      <td>...</td>\n",
       "      <td>0</td>\n",
       "      <td>0</td>\n",
       "      <td>0</td>\n",
       "      <td>0</td>\n",
       "      <td>0</td>\n",
       "      <td>0</td>\n",
       "      <td>0</td>\n",
       "      <td>0</td>\n",
       "      <td>0</td>\n",
       "      <td>0</td>\n",
       "    </tr>\n",
       "    <tr>\n",
       "      <th>1</th>\n",
       "      <td>The Godfather</td>\n",
       "      <td>https://www.imdb.com/title/tt0068646/?pf_rd_m=...</td>\n",
       "      <td>1972</td>\n",
       "      <td>9.2</td>\n",
       "      <td>1,400,266</td>\n",
       "      <td>A</td>\n",
       "      <td>2h55min</td>\n",
       "      <td>NaN</td>\n",
       "      <td>24March1972(USA)</td>\n",
       "      <td>The aging patriarch of an organized crime dyna...</td>\n",
       "      <td>...</td>\n",
       "      <td>0</td>\n",
       "      <td>0</td>\n",
       "      <td>0</td>\n",
       "      <td>1</td>\n",
       "      <td>0</td>\n",
       "      <td>0</td>\n",
       "      <td>0</td>\n",
       "      <td>0</td>\n",
       "      <td>0</td>\n",
       "      <td>0</td>\n",
       "    </tr>\n",
       "    <tr>\n",
       "      <th>2</th>\n",
       "      <td>The Godfather: Part II</td>\n",
       "      <td>https://www.imdb.com/title/tt0071562/?pf_rd_m=...</td>\n",
       "      <td>1974</td>\n",
       "      <td>9.0</td>\n",
       "      <td>970,681</td>\n",
       "      <td>NaN</td>\n",
       "      <td>3h22min</td>\n",
       "      <td>NaN</td>\n",
       "      <td>20December1974(USA)</td>\n",
       "      <td>The early life and career of Vito Corleone in ...</td>\n",
       "      <td>...</td>\n",
       "      <td>0</td>\n",
       "      <td>0</td>\n",
       "      <td>0</td>\n",
       "      <td>1</td>\n",
       "      <td>0</td>\n",
       "      <td>0</td>\n",
       "      <td>0</td>\n",
       "      <td>0</td>\n",
       "      <td>0</td>\n",
       "      <td>0</td>\n",
       "    </tr>\n",
       "    <tr>\n",
       "      <th>3</th>\n",
       "      <td>The Dark Knight</td>\n",
       "      <td>https://www.imdb.com/title/tt0468569/?pf_rd_m=...</td>\n",
       "      <td>2008</td>\n",
       "      <td>9.0</td>\n",
       "      <td>2,009,174</td>\n",
       "      <td>UA</td>\n",
       "      <td>2h32min</td>\n",
       "      <td>NaN</td>\n",
       "      <td>18July2008(India)</td>\n",
       "      <td>When the menace known as the Joker emerges fro...</td>\n",
       "      <td>...</td>\n",
       "      <td>0</td>\n",
       "      <td>0</td>\n",
       "      <td>0</td>\n",
       "      <td>1</td>\n",
       "      <td>0</td>\n",
       "      <td>0</td>\n",
       "      <td>0</td>\n",
       "      <td>0</td>\n",
       "      <td>0</td>\n",
       "      <td>1</td>\n",
       "    </tr>\n",
       "    <tr>\n",
       "      <th>4</th>\n",
       "      <td>12 Angry Men</td>\n",
       "      <td>https://www.imdb.com/title/tt0050083/?pf_rd_m=...</td>\n",
       "      <td>1957</td>\n",
       "      <td>8.9</td>\n",
       "      <td>574,770</td>\n",
       "      <td>NaN</td>\n",
       "      <td>1h36min</td>\n",
       "      <td>NaN</td>\n",
       "      <td>10April1957(USA)</td>\n",
       "      <td>A jury holdout attempts to prevent a miscarria...</td>\n",
       "      <td>...</td>\n",
       "      <td>0</td>\n",
       "      <td>0</td>\n",
       "      <td>0</td>\n",
       "      <td>0</td>\n",
       "      <td>0</td>\n",
       "      <td>0</td>\n",
       "      <td>0</td>\n",
       "      <td>0</td>\n",
       "      <td>0</td>\n",
       "      <td>0</td>\n",
       "    </tr>\n",
       "  </tbody>\n",
       "</table>\n",
       "<p>5 rows × 45 columns</p>\n",
       "</div>"
      ],
      "text/plain": [
       "          Name of the movie  \\\n",
       "0  The Shawshank Redemption   \n",
       "1             The Godfather   \n",
       "2    The Godfather: Part II   \n",
       "3           The Dark Knight   \n",
       "4              12 Angry Men   \n",
       "\n",
       "                                                Link  Year released  \\\n",
       "0  https://www.imdb.com/title/tt0111161/?pf_rd_m=...           1994   \n",
       "1  https://www.imdb.com/title/tt0068646/?pf_rd_m=...           1972   \n",
       "2  https://www.imdb.com/title/tt0071562/?pf_rd_m=...           1974   \n",
       "3  https://www.imdb.com/title/tt0468569/?pf_rd_m=...           2008   \n",
       "4  https://www.imdb.com/title/tt0050083/?pf_rd_m=...           1957   \n",
       "\n",
       "   IMDB rating Number of reviewers Censor board rating Length of the movie  \\\n",
       "0          9.3           2,041,643                   A             2h22min   \n",
       "1          9.2           1,400,266                   A             2h55min   \n",
       "2          9.0             970,681                 NaN             3h22min   \n",
       "3          9.0           2,009,174                  UA             2h32min   \n",
       "4          8.9             574,770                 NaN             1h36min   \n",
       "\n",
       "   Genre 4         Release date  \\\n",
       "0      NaN   14October1994(USA)   \n",
       "1      NaN     24March1972(USA)   \n",
       "2      NaN  20December1974(USA)   \n",
       "3      NaN    18July2008(India)   \n",
       "4      NaN     10April1957(USA)   \n",
       "\n",
       "                                       story summary    ...     new_Horror  \\\n",
       "0  Two imprisoned men bond over a number of years...    ...              0   \n",
       "1  The aging patriarch of an organized crime dyna...    ...              0   \n",
       "2  The early life and career of Vito Corleone in ...    ...              0   \n",
       "3  When the menace known as the Joker emerges fro...    ...              0   \n",
       "4  A jury holdout attempts to prevent a miscarria...    ...              0   \n",
       "\n",
       "  new_Sport new_Adventure  new_Crime new_Western new_History new_Film-Noir  \\\n",
       "0         0             0          0           0           0             0   \n",
       "1         0             0          1           0           0             0   \n",
       "2         0             0          1           0           0             0   \n",
       "3         0             0          1           0           0             0   \n",
       "4         0             0          0           0           0             0   \n",
       "\n",
       "   new_Comedy  new_Animation new_Action  \n",
       "0           0              0          0  \n",
       "1           0              0          0  \n",
       "2           0              0          0  \n",
       "3           0              0          1  \n",
       "4           0              0          0  \n",
       "\n",
       "[5 rows x 45 columns]"
      ]
     },
     "execution_count": 517,
     "metadata": {},
     "output_type": "execute_result"
    }
   ],
   "source": [
    "df.head()"
   ]
  },
  {
   "cell_type": "markdown",
   "metadata": {},
   "source": [
    "## Smooth. Let's confirm with column names"
   ]
  },
  {
   "cell_type": "code",
   "execution_count": 519,
   "metadata": {},
   "outputs": [
    {
     "data": {
      "text/plain": [
       "Index(['Name of the movie', 'Link', 'Year released', 'IMDB rating',\n",
       "       'Number of reviewers', 'Censor board rating', 'Length of the movie',\n",
       "       'Genre 4', 'Release date', 'story summary', 'Director Name', 'Writer 1',\n",
       "       'Writer 2', 'Writer 3', 'Star 1', 'Star 2', 'Star 3', 'Star 4',\n",
       "       'Star 5', 'Plot Keywords list', 'Budget', 'Gross USA',\n",
       "       'Cumulative worlwide Gross', 'Production company', 'new_Musical',\n",
       "       'new_Music', 'new_Romance', 'new_Family', 'new_Thriller', 'new_War',\n",
       "       'new_Fantasy', 'new_Mystery', 'new_Sci-Fi', 'new_Drama',\n",
       "       'new_Biography', 'new_Horror', 'new_Sport', 'new_Adventure',\n",
       "       'new_Crime', 'new_Western', 'new_History', 'new_Film-Noir',\n",
       "       'new_Comedy', 'new_Animation', 'new_Action'],\n",
       "      dtype='object')"
      ]
     },
     "execution_count": 519,
     "metadata": {},
     "output_type": "execute_result"
    }
   ],
   "source": [
    "df.columns"
   ]
  },
  {
   "cell_type": "markdown",
   "metadata": {},
   "source": [
    "## Yess, we now only have one genre type present. Let's just see how new_Drama looks"
   ]
  },
  {
   "cell_type": "code",
   "execution_count": 521,
   "metadata": {},
   "outputs": [
    {
     "data": {
      "text/plain": [
       "0      1\n",
       "1      1\n",
       "2      1\n",
       "3      1\n",
       "4      1\n",
       "5      1\n",
       "6      1\n",
       "7      1\n",
       "8      0\n",
       "9      1\n",
       "10     1\n",
       "11     1\n",
       "12     0\n",
       "13     0\n",
       "14     1\n",
       "15     1\n",
       "16     1\n",
       "17     0\n",
       "18     1\n",
       "19     1\n",
       "20     1\n",
       "21     0\n",
       "22     1\n",
       "23     1\n",
       "24     1\n",
       "25     0\n",
       "26     0\n",
       "27     0\n",
       "28     1\n",
       "29     1\n",
       "      ..\n",
       "220    0\n",
       "221    1\n",
       "222    0\n",
       "223    1\n",
       "224    0\n",
       "225    1\n",
       "226    1\n",
       "227    1\n",
       "228    1\n",
       "229    0\n",
       "230    0\n",
       "231    1\n",
       "232    1\n",
       "233    1\n",
       "234    1\n",
       "235    1\n",
       "236    1\n",
       "237    1\n",
       "238    1\n",
       "239    1\n",
       "240    1\n",
       "241    1\n",
       "242    1\n",
       "243    0\n",
       "244    1\n",
       "245    1\n",
       "246    1\n",
       "247    1\n",
       "248    0\n",
       "249    0\n",
       "Name: new_Drama, Length: 250, dtype: uint8"
      ]
     },
     "execution_count": 521,
     "metadata": {},
     "output_type": "execute_result"
    }
   ],
   "source": [
    "df['new_Drama']"
   ]
  },
  {
   "cell_type": "code",
   "execution_count": 522,
   "metadata": {},
   "outputs": [],
   "source": [
    "# Awesome. "
   ]
  },
  {
   "cell_type": "code",
   "execution_count": 523,
   "metadata": {},
   "outputs": [],
   "source": [
    "# Let's clean Budget, Cumulative worldwide earning and Gross USA"
   ]
  },
  {
   "cell_type": "code",
   "execution_count": 524,
   "metadata": {},
   "outputs": [
    {
     "data": {
      "text/plain": [
       "0     $25,000,000 (estimated) \n",
       "1      $6,000,000 (estimated) \n",
       "2     $13,000,000 (estimated) \n",
       "3    $185,000,000 (estimated) \n",
       "4        $350,000 (estimated) \n",
       "Name: Budget, dtype: object"
      ]
     },
     "execution_count": 524,
     "metadata": {},
     "output_type": "execute_result"
    }
   ],
   "source": [
    "df['Budget'].head()"
   ]
  },
  {
   "cell_type": "code",
   "execution_count": 525,
   "metadata": {},
   "outputs": [],
   "source": [
    "# we can use regex to replace \"(estimates)\", \"$\",\",\""
   ]
  },
  {
   "cell_type": "code",
   "execution_count": 526,
   "metadata": {},
   "outputs": [],
   "source": [
    "df['Budget'] = df['Budget'].str.replace(r'\\([a-z]*\\)','')"
   ]
  },
  {
   "cell_type": "code",
   "execution_count": 527,
   "metadata": {},
   "outputs": [
    {
     "data": {
      "text/plain": [
       "0     $25,000,000  \n",
       "1      $6,000,000  \n",
       "2     $13,000,000  \n",
       "3    $185,000,000  \n",
       "4        $350,000  \n",
       "Name: Budget, dtype: object"
      ]
     },
     "execution_count": 527,
     "metadata": {},
     "output_type": "execute_result"
    }
   ],
   "source": [
    "df['Budget'].head()"
   ]
  },
  {
   "cell_type": "code",
   "execution_count": 528,
   "metadata": {},
   "outputs": [],
   "source": [
    "# Cool, we don't have irritating \"(estimated)\" now. Let's remove '$' and ',' respectively"
   ]
  },
  {
   "cell_type": "code",
   "execution_count": 529,
   "metadata": {},
   "outputs": [],
   "source": [
    "df['Budget'] = df['Budget'].str.replace('$','')\n",
    "df['Budget'] = df['Budget'].str.replace(',','')"
   ]
  },
  {
   "cell_type": "code",
   "execution_count": 530,
   "metadata": {},
   "outputs": [
    {
     "data": {
      "text/plain": [
       "0             25000000  \n",
       "1              6000000  \n",
       "2             13000000  \n",
       "3            185000000  \n",
       "4               350000  \n",
       "5             22000000  \n",
       "6             94000000  \n",
       "7              8000000  \n",
       "8              1200000  \n",
       "9             63000000  \n",
       "10            93000000  \n",
       "11            55000000  \n",
       "12            18000000  \n",
       "13           160000000  \n",
       "14            94000000  \n",
       "15             4400000  \n",
       "16            25000000  \n",
       "17            63000000  \n",
       "18             2000000  \n",
       "19            33000000  \n",
       "20             3300000  \n",
       "21            11000000  \n",
       "22            19000000  \n",
       "23             3180000  \n",
       "24            20000000  \n",
       "25            90000000  \n",
       "26             6000000  \n",
       "27            19000000  \n",
       "28            70000000  \n",
       "29       FRF 115000000  \n",
       "             ...        \n",
       "220          115000000  \n",
       "221             800000  \n",
       "222             375000  \n",
       "223           16400000  \n",
       "224            6400000  \n",
       "225                  NaN\n",
       "226           22000000  \n",
       "227                  NaN\n",
       "228           €2590000  \n",
       "229           14600000  \n",
       "230            2800000  \n",
       "231                  NaN\n",
       "232                  NaN\n",
       "233            8000000  \n",
       "234           25000000  \n",
       "235            €650000  \n",
       "236    KRW 10000000000  \n",
       "237                  NaN\n",
       "238            2700000  \n",
       "239            9400000  \n",
       "240            2500000  \n",
       "241           £1162000  \n",
       "242                  NaN\n",
       "243      INR 184000000  \n",
       "244            2100000  \n",
       "245                  NaN\n",
       "246            6000000  \n",
       "247            6000000  \n",
       "248          170000000  \n",
       "249          140000000  \n",
       "Name: Budget, Length: 250, dtype: object"
      ]
     },
     "execution_count": 530,
     "metadata": {},
     "output_type": "execute_result"
    }
   ],
   "source": [
    "df['Budget']"
   ]
  },
  {
   "cell_type": "markdown",
   "metadata": {},
   "source": [
    "## So we have few other currency sign as well. It'll be great if we convert them to dollars. But let's just ignore the currency and just remove them. We can easily convert them later"
   ]
  },
  {
   "cell_type": "code",
   "execution_count": 532,
   "metadata": {},
   "outputs": [],
   "source": [
    "df['Budget'] = df['Budget'].str.replace(r'[A-Z]*','')\n",
    "df['Budget'] = df['Budget'].str.replace('£','')\n",
    "df['Budget'] = df['Budget'].str.replace('€','')"
   ]
  },
  {
   "cell_type": "code",
   "execution_count": 533,
   "metadata": {},
   "outputs": [
    {
     "data": {
      "text/plain": [
       "0          25000000  \n",
       "1           6000000  \n",
       "2          13000000  \n",
       "3         185000000  \n",
       "4            350000  \n",
       "5          22000000  \n",
       "6          94000000  \n",
       "7           8000000  \n",
       "8           1200000  \n",
       "9          63000000  \n",
       "10         93000000  \n",
       "11         55000000  \n",
       "12         18000000  \n",
       "13        160000000  \n",
       "14         94000000  \n",
       "15          4400000  \n",
       "16         25000000  \n",
       "17         63000000  \n",
       "18          2000000  \n",
       "19         33000000  \n",
       "20          3300000  \n",
       "21         11000000  \n",
       "22         19000000  \n",
       "23          3180000  \n",
       "24         20000000  \n",
       "25         90000000  \n",
       "26          6000000  \n",
       "27         19000000  \n",
       "28         70000000  \n",
       "29        115000000  \n",
       "            ...      \n",
       "220       115000000  \n",
       "221          800000  \n",
       "222          375000  \n",
       "223        16400000  \n",
       "224         6400000  \n",
       "225               NaN\n",
       "226        22000000  \n",
       "227               NaN\n",
       "228         2590000  \n",
       "229        14600000  \n",
       "230         2800000  \n",
       "231               NaN\n",
       "232               NaN\n",
       "233         8000000  \n",
       "234        25000000  \n",
       "235          650000  \n",
       "236     10000000000  \n",
       "237               NaN\n",
       "238         2700000  \n",
       "239         9400000  \n",
       "240         2500000  \n",
       "241         1162000  \n",
       "242               NaN\n",
       "243       184000000  \n",
       "244         2100000  \n",
       "245               NaN\n",
       "246         6000000  \n",
       "247         6000000  \n",
       "248       170000000  \n",
       "249       140000000  \n",
       "Name: Budget, Length: 250, dtype: object"
      ]
     },
     "execution_count": 533,
     "metadata": {},
     "output_type": "execute_result"
    }
   ],
   "source": [
    "df['Budget']"
   ]
  },
  {
   "cell_type": "markdown",
   "metadata": {},
   "source": [
    "## Smoooth. Let's deal with null values now. As observed from above, we have 27 null values. We could have dropped this rows. But they mab=y contain some other important features. So let's replace it with median of budget values"
   ]
  },
  {
   "cell_type": "code",
   "execution_count": 535,
   "metadata": {},
   "outputs": [],
   "source": [
    "budget = df['Budget'].dropna()"
   ]
  },
  {
   "cell_type": "code",
   "execution_count": 536,
   "metadata": {},
   "outputs": [],
   "source": [
    "# to calculate mean, median, std, etc.\n",
    "budget = budget.astype(int)"
   ]
  },
  {
   "cell_type": "code",
   "execution_count": 537,
   "metadata": {},
   "outputs": [],
   "source": [
    "b_median = budget.median()"
   ]
  },
  {
   "cell_type": "code",
   "execution_count": 538,
   "metadata": {},
   "outputs": [],
   "source": [
    "df['Budget'] = df['Budget'].fillna(b_median)"
   ]
  },
  {
   "cell_type": "code",
   "execution_count": 539,
   "metadata": {},
   "outputs": [
    {
     "data": {
      "text/plain": [
       "0"
      ]
     },
     "execution_count": 539,
     "metadata": {},
     "output_type": "execute_result"
    }
   ],
   "source": [
    "df['Budget'].isna().sum()"
   ]
  },
  {
   "cell_type": "code",
   "execution_count": 540,
   "metadata": {},
   "outputs": [],
   "source": [
    "# Cool, no null values\n",
    "# We will use the same method to clean Gross USA and Cumulative wordwide Gross. Let's quickly clean them"
   ]
  },
  {
   "cell_type": "code",
   "execution_count": 541,
   "metadata": {},
   "outputs": [
    {
     "data": {
      "text/plain": [
       "0                     $28,341,469\n",
       "1          $134,966,411,11May1997\n",
       "2                     $57,300,000\n",
       "3         $534,858,444,19July2012\n",
       "4                      $4,360,000\n",
       "5                     $96,067,179\n",
       "6         $377,845,905,28June2011\n",
       "7                    $107,928,762\n",
       "8                      $6,100,000\n",
       "9                     $37,030,102\n",
       "10        $315,544,750,14June2011\n",
       "11                   $330,252,182\n",
       "12    $290,475,067,31December1997\n",
       "13      $292,576,195,6January2011\n",
       "14        $342,551,365,21June2011\n",
       "Name: Gross USA, dtype: object"
      ]
     },
     "execution_count": 541,
     "metadata": {},
     "output_type": "execute_result"
    }
   ],
   "source": [
    "df['Gross USA'].head(15)"
   ]
  },
  {
   "cell_type": "code",
   "execution_count": 542,
   "metadata": {},
   "outputs": [],
   "source": [
    "df['Gross USA']= df['Gross USA'].str.replace(r'[0-9][0-9][A-Z]*[a-z]*[0-9][0-9][0-9][0-9]', '')\n",
    "df['Gross USA']= df['Gross USA'].str.replace(r'[0-9][A-Z]*[a-z]*[0-9][0-9][0-9][0-9]', '')\n",
    "df['Gross USA'] = df['Gross USA'].str.replace('$','')\n",
    "df['Gross USA'] = df['Gross USA'].str.replace(',','')"
   ]
  },
  {
   "cell_type": "code",
   "execution_count": 543,
   "metadata": {},
   "outputs": [
    {
     "data": {
      "text/plain": [
       "0      28341469\n",
       "1     134966411\n",
       "2      57300000\n",
       "3     534858444\n",
       "4       4360000\n",
       "5      96067179\n",
       "6     377845905\n",
       "7     107928762\n",
       "8       6100000\n",
       "9      37030102\n",
       "10    315544750\n",
       "11    330252182\n",
       "12    290475067\n",
       "13    292576195\n",
       "14    342551365\n",
       "15    112000000\n",
       "16     46836394\n",
       "17    171479930\n",
       "18       269061\n",
       "19    100125643\n",
       "Name: Gross USA, dtype: object"
      ]
     },
     "execution_count": 543,
     "metadata": {},
     "output_type": "execute_result"
    }
   ],
   "source": [
    "# let's look at the cleaned data\n",
    "df['Gross USA'].head(20)"
   ]
  },
  {
   "cell_type": "code",
   "execution_count": 544,
   "metadata": {},
   "outputs": [],
   "source": [
    "# Smooth. LEt's deal with null values"
   ]
  },
  {
   "cell_type": "code",
   "execution_count": 545,
   "metadata": {},
   "outputs": [],
   "source": [
    "g_gross = df['Gross USA'].dropna()"
   ]
  },
  {
   "cell_type": "code",
   "execution_count": 546,
   "metadata": {},
   "outputs": [],
   "source": [
    "g_gross = g_gross.astype(int)"
   ]
  },
  {
   "cell_type": "code",
   "execution_count": 547,
   "metadata": {},
   "outputs": [],
   "source": [
    "g_median = g_gross.median()\n",
    "df['Gross USA'] = df['Gross USA'].fillna(g_median)"
   ]
  },
  {
   "cell_type": "code",
   "execution_count": 548,
   "metadata": {},
   "outputs": [
    {
     "data": {
      "text/plain": [
       "0                          $58,500,000\n",
       "1                         $245,066,411\n",
       "2                                  NaN\n",
       "3         $1,004,558,444, 19 July 2012\n",
       "4                                  NaN\n",
       "5                         $221,000,000\n",
       "6     $1,119,929,521, 25 November 2011\n",
       "7                         $213,928,762\n",
       "8                                  NaN\n",
       "9                          $71,000,000\n",
       "10      $871,530,324, 25 November 2011\n",
       "11                        $677,945,399\n",
       "12                        $247,916,602\n",
       "13        $825,532,764, 6 January 2011\n",
       "14      $926,047,111, 25 November 2011\n",
       "Name: Cumulative worlwide Gross, dtype: object"
      ]
     },
     "execution_count": 548,
     "metadata": {},
     "output_type": "execute_result"
    }
   ],
   "source": [
    "df['Cumulative worlwide Gross'].head(15)"
   ]
  },
  {
   "cell_type": "code",
   "execution_count": 549,
   "metadata": {},
   "outputs": [],
   "source": [
    "df['Cumulative worlwide Gross']= df['Cumulative worlwide Gross'].str.replace(r'[0-9][0-9]\\ [A-Z]*[a-z]*\\ [0-9][0-9][0-9][0-9]', '')\n",
    "df['Cumulative worlwide Gross']= df['Cumulative worlwide Gross'].str.replace(r'[0-9]\\ [A-Z]*[a-z]*\\ [0-9][0-9][0-9][0-9]', '')\n",
    "df['Cumulative worlwide Gross']= df['Cumulative worlwide Gross'].str.replace('$', '')\n",
    "df['Cumulative worlwide Gross']= df['Cumulative worlwide Gross'].str.replace(',', '')"
   ]
  },
  {
   "cell_type": "code",
   "execution_count": 550,
   "metadata": {},
   "outputs": [
    {
     "data": {
      "text/plain": [
       "0        58500000\n",
       "1       245066411\n",
       "2             NaN\n",
       "3     1004558444 \n",
       "4             NaN\n",
       "5       221000000\n",
       "6     1119929521 \n",
       "7       213928762\n",
       "8             NaN\n",
       "9        71000000\n",
       "10     871530324 \n",
       "11      677945399\n",
       "12      247916602\n",
       "13     825532764 \n",
       "14     926047111 \n",
       "Name: Cumulative worlwide Gross, dtype: object"
      ]
     },
     "execution_count": 550,
     "metadata": {},
     "output_type": "execute_result"
    }
   ],
   "source": [
    "df['Cumulative worlwide Gross'].head(15)"
   ]
  },
  {
   "cell_type": "code",
   "execution_count": 551,
   "metadata": {},
   "outputs": [],
   "source": [
    "c_cumu = df['Cumulative worlwide Gross'].dropna()"
   ]
  },
  {
   "cell_type": "code",
   "execution_count": 552,
   "metadata": {},
   "outputs": [],
   "source": [
    "c_cumu = c_cumu.astype(int)\n",
    "c_median = c_cumu.median()\n",
    "df['Cumulative worlwide Gross'] = df['Cumulative worlwide Gross'].fillna(c_median)"
   ]
  },
  {
   "cell_type": "code",
   "execution_count": 581,
   "metadata": {},
   "outputs": [],
   "source": [
    "# let's now remove commas from Number of reviwers\n",
    "df['Number of reviewers'] = df['Number of reviewers'].str.replace(',','')"
   ]
  },
  {
   "cell_type": "code",
   "execution_count": 341,
   "metadata": {},
   "outputs": [],
   "source": [
    "# Hooray, done with cleaning. Let's just clean Length of the movie. And we will be done"
   ]
  },
  {
   "cell_type": "code",
   "execution_count": 561,
   "metadata": {},
   "outputs": [],
   "source": [
    "df['Length of the movie']= df['Length of the movie'].str.replace('1h[0-9][0-9]min', '1h')\n",
    "df['Length of the movie']= df['Length of the movie'].str.replace('1h[0-9]min', '1h')\n",
    "df['Length of the movie']= df['Length of the movie'].str.replace('2h[0-9][0-9]min', '2h')\n",
    "df['Length of the movie']= df['Length of the movie'].str.replace('2h[0-9]min', '2h')\n",
    "df['Length of the movie']= df['Length of the movie'].str.replace('3h[0-9][0-9]min', '3h')\n",
    "df['Length of the movie']= df['Length of the movie'].str.replace('3h[0-9]min', '3h')\n",
    "df['Length of the movie']= df['Length of the movie'].str.replace('4h[0-9][0-9]min', '4h')\n",
    "df['Length of the movie']= df['Length of the movie'].str.replace('4h[0-9]min', '4h')\n",
    "df['Length of the movie']= df['Length of the movie'].str.replace('5h[0-9][0-9]min', '5h')\n",
    "df['Length of the movie']= df['Length of the movie'].str.replace('5h[0-9]min', '5h')\n"
   ]
  },
  {
   "cell_type": "code",
   "execution_count": 563,
   "metadata": {},
   "outputs": [
    {
     "data": {
      "text/plain": [
       "2h       129\n",
       "1h       102\n",
       "3h        17\n",
       "5h         1\n",
       "45min      1\n",
       "Name: Length of the movie, dtype: int64"
      ]
     },
     "execution_count": 563,
     "metadata": {},
     "output_type": "execute_result"
    }
   ],
   "source": [
    "df['Length of the movie'].value_counts()"
   ]
  },
  {
   "cell_type": "code",
   "execution_count": 565,
   "metadata": {},
   "outputs": [],
   "source": [
    "df['Length of the movie']= df['Length of the movie'].str.replace('45min', '1h')"
   ]
  },
  {
   "cell_type": "code",
   "execution_count": 566,
   "metadata": {},
   "outputs": [
    {
     "data": {
      "text/plain": [
       "2h    129\n",
       "1h    103\n",
       "3h     17\n",
       "5h      1\n",
       "Name: Length of the movie, dtype: int64"
      ]
     },
     "execution_count": 566,
     "metadata": {},
     "output_type": "execute_result"
    }
   ],
   "source": [
    "df['Length of the movie'].value_counts()"
   ]
  },
  {
   "cell_type": "markdown",
   "metadata": {},
   "source": [
    "## Awesome, let's use one-hot-encoding now"
   ]
  },
  {
   "cell_type": "code",
   "execution_count": 571,
   "metadata": {},
   "outputs": [],
   "source": [
    "df = pd.get_dummies(df, columns=[\"Length of the movie\"], prefix=[\"len\"])\n",
    "df = pd.get_dummies(df, columns=[\"Censor board rating\"], prefix=[\"censor\"])"
   ]
  },
  {
   "cell_type": "markdown",
   "metadata": {},
   "source": [
    "## That's it. We have done lots of cleaning. Let's look at the columns and separate the features and output now"
   ]
  },
  {
   "cell_type": "code",
   "execution_count": 572,
   "metadata": {},
   "outputs": [
    {
     "data": {
      "text/plain": [
       "Index(['Name of the movie', 'Link', 'Year released', 'IMDB rating',\n",
       "       'Number of reviewers', 'Genre 4', 'Release date', 'story summary',\n",
       "       'Director Name', 'Writer 1', 'Writer 2', 'Writer 3', 'Star 1', 'Star 2',\n",
       "       'Star 3', 'Star 4', 'Star 5', 'Plot Keywords list', 'Budget',\n",
       "       'Gross USA', 'Cumulative worlwide Gross', 'Production company',\n",
       "       'new_Musical', 'new_Music', 'new_Romance', 'new_Family', 'new_Thriller',\n",
       "       'new_War', 'new_Fantasy', 'new_Mystery', 'new_Sci-Fi', 'new_Drama',\n",
       "       'new_Biography', 'new_Horror', 'new_Sport', 'new_Adventure',\n",
       "       'new_Crime', 'new_Western', 'new_History', 'new_Film-Noir',\n",
       "       'new_Comedy', 'new_Animation', 'new_Action', 'len_1h', 'len_2h',\n",
       "       'len_3h', 'len_5h', 'censor_(Banned)', 'censor_A', 'censor_G',\n",
       "       'censor_PG', 'censor_PG-13', 'censor_R', 'censor_U', 'censor_UA'],\n",
       "      dtype='object')"
      ]
     },
     "execution_count": 572,
     "metadata": {},
     "output_type": "execute_result"
    }
   ],
   "source": [
    "df.columns"
   ]
  },
  {
   "cell_type": "code",
   "execution_count": 574,
   "metadata": {},
   "outputs": [],
   "source": [
    "features = ['Year released','Number of reviewers', 'Budget',\n",
    "       'Gross USA', 'Cumulative worlwide Gross',\n",
    "       'new_Musical', 'new_Music', 'new_Romance', 'new_Family', 'new_Thriller',\n",
    "       'new_War', 'new_Fantasy', 'new_Mystery', 'new_Sci-Fi', 'new_Drama',\n",
    "       'new_Biography', 'new_Horror', 'new_Sport', 'new_Adventure',\n",
    "       'new_Crime', 'new_Western', 'new_History', 'new_Film-Noir',\n",
    "       'new_Comedy', 'new_Animation', 'new_Action', 'len_1h', 'len_2h',\n",
    "       'len_3h', 'len_5h', 'censor_(Banned)', 'censor_A', 'censor_G',\n",
    "       'censor_PG', 'censor_PG-13', 'censor_R', 'censor_U', 'censor_UA']\n",
    "target = 'IMDB rating'"
   ]
  },
  {
   "cell_type": "code",
   "execution_count": 582,
   "metadata": {},
   "outputs": [],
   "source": [
    "df_1 = df[features]"
   ]
  },
  {
   "cell_type": "markdown",
   "metadata": {},
   "source": [
    "## Let's look at our required dataframe"
   ]
  },
  {
   "cell_type": "code",
   "execution_count": 584,
   "metadata": {},
   "outputs": [
    {
     "data": {
      "text/html": [
       "<div>\n",
       "<style scoped>\n",
       "    .dataframe tbody tr th:only-of-type {\n",
       "        vertical-align: middle;\n",
       "    }\n",
       "\n",
       "    .dataframe tbody tr th {\n",
       "        vertical-align: top;\n",
       "    }\n",
       "\n",
       "    .dataframe thead th {\n",
       "        text-align: right;\n",
       "    }\n",
       "</style>\n",
       "<table border=\"1\" class=\"dataframe\">\n",
       "  <thead>\n",
       "    <tr style=\"text-align: right;\">\n",
       "      <th></th>\n",
       "      <th>Year released</th>\n",
       "      <th>Number of reviewers</th>\n",
       "      <th>Budget</th>\n",
       "      <th>Gross USA</th>\n",
       "      <th>Cumulative worlwide Gross</th>\n",
       "      <th>new_Musical</th>\n",
       "      <th>new_Music</th>\n",
       "      <th>new_Romance</th>\n",
       "      <th>new_Family</th>\n",
       "      <th>new_Thriller</th>\n",
       "      <th>...</th>\n",
       "      <th>len_3h</th>\n",
       "      <th>len_5h</th>\n",
       "      <th>censor_(Banned)</th>\n",
       "      <th>censor_A</th>\n",
       "      <th>censor_G</th>\n",
       "      <th>censor_PG</th>\n",
       "      <th>censor_PG-13</th>\n",
       "      <th>censor_R</th>\n",
       "      <th>censor_U</th>\n",
       "      <th>censor_UA</th>\n",
       "    </tr>\n",
       "  </thead>\n",
       "  <tbody>\n",
       "    <tr>\n",
       "      <th>0</th>\n",
       "      <td>1994</td>\n",
       "      <td>2041643</td>\n",
       "      <td>25000000</td>\n",
       "      <td>28341469</td>\n",
       "      <td>58500000</td>\n",
       "      <td>0</td>\n",
       "      <td>0</td>\n",
       "      <td>0</td>\n",
       "      <td>0</td>\n",
       "      <td>0</td>\n",
       "      <td>...</td>\n",
       "      <td>0</td>\n",
       "      <td>0</td>\n",
       "      <td>0</td>\n",
       "      <td>1</td>\n",
       "      <td>0</td>\n",
       "      <td>0</td>\n",
       "      <td>0</td>\n",
       "      <td>0</td>\n",
       "      <td>0</td>\n",
       "      <td>0</td>\n",
       "    </tr>\n",
       "    <tr>\n",
       "      <th>1</th>\n",
       "      <td>1972</td>\n",
       "      <td>1400266</td>\n",
       "      <td>6000000</td>\n",
       "      <td>134966411</td>\n",
       "      <td>245066411</td>\n",
       "      <td>0</td>\n",
       "      <td>0</td>\n",
       "      <td>0</td>\n",
       "      <td>0</td>\n",
       "      <td>0</td>\n",
       "      <td>...</td>\n",
       "      <td>0</td>\n",
       "      <td>0</td>\n",
       "      <td>0</td>\n",
       "      <td>1</td>\n",
       "      <td>0</td>\n",
       "      <td>0</td>\n",
       "      <td>0</td>\n",
       "      <td>0</td>\n",
       "      <td>0</td>\n",
       "      <td>0</td>\n",
       "    </tr>\n",
       "    <tr>\n",
       "      <th>2</th>\n",
       "      <td>1974</td>\n",
       "      <td>970681</td>\n",
       "      <td>13000000</td>\n",
       "      <td>57300000</td>\n",
       "      <td>1.71627e+08</td>\n",
       "      <td>0</td>\n",
       "      <td>0</td>\n",
       "      <td>0</td>\n",
       "      <td>0</td>\n",
       "      <td>0</td>\n",
       "      <td>...</td>\n",
       "      <td>1</td>\n",
       "      <td>0</td>\n",
       "      <td>0</td>\n",
       "      <td>0</td>\n",
       "      <td>0</td>\n",
       "      <td>0</td>\n",
       "      <td>0</td>\n",
       "      <td>0</td>\n",
       "      <td>0</td>\n",
       "      <td>0</td>\n",
       "    </tr>\n",
       "    <tr>\n",
       "      <th>3</th>\n",
       "      <td>2008</td>\n",
       "      <td>2009174</td>\n",
       "      <td>185000000</td>\n",
       "      <td>534858444</td>\n",
       "      <td>1004558444</td>\n",
       "      <td>0</td>\n",
       "      <td>0</td>\n",
       "      <td>0</td>\n",
       "      <td>0</td>\n",
       "      <td>0</td>\n",
       "      <td>...</td>\n",
       "      <td>0</td>\n",
       "      <td>0</td>\n",
       "      <td>0</td>\n",
       "      <td>0</td>\n",
       "      <td>0</td>\n",
       "      <td>0</td>\n",
       "      <td>0</td>\n",
       "      <td>0</td>\n",
       "      <td>0</td>\n",
       "      <td>1</td>\n",
       "    </tr>\n",
       "    <tr>\n",
       "      <th>4</th>\n",
       "      <td>1957</td>\n",
       "      <td>574770</td>\n",
       "      <td>350000</td>\n",
       "      <td>4360000</td>\n",
       "      <td>1.71627e+08</td>\n",
       "      <td>0</td>\n",
       "      <td>0</td>\n",
       "      <td>0</td>\n",
       "      <td>0</td>\n",
       "      <td>0</td>\n",
       "      <td>...</td>\n",
       "      <td>0</td>\n",
       "      <td>0</td>\n",
       "      <td>0</td>\n",
       "      <td>0</td>\n",
       "      <td>0</td>\n",
       "      <td>0</td>\n",
       "      <td>0</td>\n",
       "      <td>0</td>\n",
       "      <td>0</td>\n",
       "      <td>0</td>\n",
       "    </tr>\n",
       "  </tbody>\n",
       "</table>\n",
       "<p>5 rows × 38 columns</p>\n",
       "</div>"
      ],
      "text/plain": [
       "   Year released Number of reviewers       Budget  Gross USA  \\\n",
       "0           1994             2041643   25000000     28341469   \n",
       "1           1972             1400266    6000000    134966411   \n",
       "2           1974              970681   13000000     57300000   \n",
       "3           2008             2009174  185000000    534858444   \n",
       "4           1957              574770     350000      4360000   \n",
       "\n",
       "  Cumulative worlwide Gross  new_Musical  new_Music  new_Romance  new_Family  \\\n",
       "0                  58500000            0          0            0           0   \n",
       "1                 245066411            0          0            0           0   \n",
       "2               1.71627e+08            0          0            0           0   \n",
       "3               1004558444             0          0            0           0   \n",
       "4               1.71627e+08            0          0            0           0   \n",
       "\n",
       "   new_Thriller    ...      len_3h  len_5h  censor_(Banned)  censor_A  \\\n",
       "0             0    ...           0       0                0         1   \n",
       "1             0    ...           0       0                0         1   \n",
       "2             0    ...           1       0                0         0   \n",
       "3             0    ...           0       0                0         0   \n",
       "4             0    ...           0       0                0         0   \n",
       "\n",
       "   censor_G  censor_PG  censor_PG-13  censor_R  censor_U  censor_UA  \n",
       "0         0          0             0         0         0          0  \n",
       "1         0          0             0         0         0          0  \n",
       "2         0          0             0         0         0          0  \n",
       "3         0          0             0         0         0          1  \n",
       "4         0          0             0         0         0          0  \n",
       "\n",
       "[5 rows x 38 columns]"
      ]
     },
     "execution_count": 584,
     "metadata": {},
     "output_type": "execute_result"
    }
   ],
   "source": [
    "df_1.head()"
   ]
  },
  {
   "cell_type": "code",
   "execution_count": 585,
   "metadata": {},
   "outputs": [
    {
     "data": {
      "text/plain": [
       "Year released                 int64\n",
       "Number of reviewers          object\n",
       "Budget                       object\n",
       "Gross USA                    object\n",
       "Cumulative worlwide Gross    object\n",
       "new_Musical                   uint8\n",
       "new_Music                     uint8\n",
       "new_Romance                   uint8\n",
       "new_Family                    uint8\n",
       "new_Thriller                  uint8\n",
       "new_War                       uint8\n",
       "new_Fantasy                   uint8\n",
       "new_Mystery                   uint8\n",
       "new_Sci-Fi                    uint8\n",
       "new_Drama                     uint8\n",
       "new_Biography                 uint8\n",
       "new_Horror                    uint8\n",
       "new_Sport                     uint8\n",
       "new_Adventure                 uint8\n",
       "new_Crime                     uint8\n",
       "new_Western                   uint8\n",
       "new_History                   uint8\n",
       "new_Film-Noir                 uint8\n",
       "new_Comedy                    uint8\n",
       "new_Animation                 uint8\n",
       "new_Action                    uint8\n",
       "len_1h                        uint8\n",
       "len_2h                        uint8\n",
       "len_3h                        uint8\n",
       "len_5h                        uint8\n",
       "censor_(Banned)               uint8\n",
       "censor_A                      uint8\n",
       "censor_G                      uint8\n",
       "censor_PG                     uint8\n",
       "censor_PG-13                  uint8\n",
       "censor_R                      uint8\n",
       "censor_U                      uint8\n",
       "censor_UA                     uint8\n",
       "dtype: object"
      ]
     },
     "execution_count": 585,
     "metadata": {},
     "output_type": "execute_result"
    }
   ],
   "source": [
    "df_1.dtypes"
   ]
  },
  {
   "cell_type": "markdown",
   "metadata": {},
   "source": [
    "### Converting no. of reviewers, budget, gross usa, cumulative... into int\n"
   ]
  },
  {
   "cell_type": "code",
   "execution_count": 586,
   "metadata": {},
   "outputs": [
    {
     "name": "stderr",
     "output_type": "stream",
     "text": [
      "/home/vikash/anaconda3/lib/python3.5/site-packages/ipykernel_launcher.py:1: SettingWithCopyWarning: \n",
      "A value is trying to be set on a copy of a slice from a DataFrame.\n",
      "Try using .loc[row_indexer,col_indexer] = value instead\n",
      "\n",
      "See the caveats in the documentation: http://pandas.pydata.org/pandas-docs/stable/indexing.html#indexing-view-versus-copy\n",
      "  \"\"\"Entry point for launching an IPython kernel.\n",
      "/home/vikash/anaconda3/lib/python3.5/site-packages/ipykernel_launcher.py:2: SettingWithCopyWarning: \n",
      "A value is trying to be set on a copy of a slice from a DataFrame.\n",
      "Try using .loc[row_indexer,col_indexer] = value instead\n",
      "\n",
      "See the caveats in the documentation: http://pandas.pydata.org/pandas-docs/stable/indexing.html#indexing-view-versus-copy\n",
      "  \n",
      "/home/vikash/anaconda3/lib/python3.5/site-packages/ipykernel_launcher.py:3: SettingWithCopyWarning: \n",
      "A value is trying to be set on a copy of a slice from a DataFrame.\n",
      "Try using .loc[row_indexer,col_indexer] = value instead\n",
      "\n",
      "See the caveats in the documentation: http://pandas.pydata.org/pandas-docs/stable/indexing.html#indexing-view-versus-copy\n",
      "  This is separate from the ipykernel package so we can avoid doing imports until\n",
      "/home/vikash/anaconda3/lib/python3.5/site-packages/ipykernel_launcher.py:4: SettingWithCopyWarning: \n",
      "A value is trying to be set on a copy of a slice from a DataFrame.\n",
      "Try using .loc[row_indexer,col_indexer] = value instead\n",
      "\n",
      "See the caveats in the documentation: http://pandas.pydata.org/pandas-docs/stable/indexing.html#indexing-view-versus-copy\n",
      "  after removing the cwd from sys.path.\n"
     ]
    }
   ],
   "source": [
    "df_1['Number of reviewers'] = df_1['Number of reviewers'] .astype(int)\n",
    "df_1['Budget']  = df_1['Budget'].astype(int)\n",
    "df_1['Gross USA'] = df_1['Gross USA'].astype(int)\n",
    "df_1['Cumulative worlwide Gross'] = df_1['Cumulative worlwide Gross'].astype(int)"
   ]
  },
  {
   "cell_type": "code",
   "execution_count": 587,
   "metadata": {},
   "outputs": [
    {
     "data": {
      "text/plain": [
       "Year released                int64\n",
       "Number of reviewers          int64\n",
       "Budget                       int64\n",
       "Gross USA                    int64\n",
       "Cumulative worlwide Gross    int64\n",
       "new_Musical                  uint8\n",
       "new_Music                    uint8\n",
       "new_Romance                  uint8\n",
       "new_Family                   uint8\n",
       "new_Thriller                 uint8\n",
       "new_War                      uint8\n",
       "new_Fantasy                  uint8\n",
       "new_Mystery                  uint8\n",
       "new_Sci-Fi                   uint8\n",
       "new_Drama                    uint8\n",
       "new_Biography                uint8\n",
       "new_Horror                   uint8\n",
       "new_Sport                    uint8\n",
       "new_Adventure                uint8\n",
       "new_Crime                    uint8\n",
       "new_Western                  uint8\n",
       "new_History                  uint8\n",
       "new_Film-Noir                uint8\n",
       "new_Comedy                   uint8\n",
       "new_Animation                uint8\n",
       "new_Action                   uint8\n",
       "len_1h                       uint8\n",
       "len_2h                       uint8\n",
       "len_3h                       uint8\n",
       "len_5h                       uint8\n",
       "censor_(Banned)              uint8\n",
       "censor_A                     uint8\n",
       "censor_G                     uint8\n",
       "censor_PG                    uint8\n",
       "censor_PG-13                 uint8\n",
       "censor_R                     uint8\n",
       "censor_U                     uint8\n",
       "censor_UA                    uint8\n",
       "dtype: object"
      ]
     },
     "execution_count": 587,
     "metadata": {},
     "output_type": "execute_result"
    }
   ],
   "source": [
    "df_1.dtypes"
   ]
  },
  {
   "cell_type": "code",
   "execution_count": 588,
   "metadata": {},
   "outputs": [],
   "source": [
    "output = df[target]"
   ]
  },
  {
   "cell_type": "code",
   "execution_count": 589,
   "metadata": {},
   "outputs": [
    {
     "data": {
      "text/plain": [
       "0    9.3\n",
       "1    9.2\n",
       "2    9.0\n",
       "3    9.0\n",
       "4    8.9\n",
       "Name: IMDB rating, dtype: float64"
      ]
     },
     "execution_count": 589,
     "metadata": {},
     "output_type": "execute_result"
    }
   ],
   "source": [
    "output.head()"
   ]
  },
  {
   "cell_type": "markdown",
   "metadata": {},
   "source": [
    "# PHASE 3: TRAINING MODEL\n",
    "\n",
    "## We have done with data cleaning and all. Let's train machine learning model now\n",
    "## To do: \n",
    "        1. Linear Regression with scikit\n",
    "        2. Use keras to train a linear neural network"
   ]
  },
  {
   "cell_type": "code",
   "execution_count": 593,
   "metadata": {},
   "outputs": [],
   "source": [
    "# Splitting dataset as train - 70%, test- 15%, validation - 15$\n",
    "Xtrain, Xtest_val,Ytrain, Ytest_val = train_test_split(df_1, output, test_size = 0.3, random_state=2)\n",
    "Xtest, Xval,Ytest, Yval = train_test_split(Xtrain, Ytrain, test_size = 0.5, random_state=2)"
   ]
  },
  {
   "cell_type": "code",
   "execution_count": 595,
   "metadata": {},
   "outputs": [
    {
     "name": "stdout",
     "output_type": "stream",
     "text": [
      "train set (175, 38)\n",
      "test set (87, 38)\n",
      "validation set (88, 38)\n"
     ]
    }
   ],
   "source": [
    "print('train set',Xtrain.shape)\n",
    "print('test set',Xtest.shape)\n",
    "print('validation set',Xval.shape)\n"
   ]
  },
  {
   "cell_type": "code",
   "execution_count": 596,
   "metadata": {},
   "outputs": [],
   "source": [
    "# Ok, so we have 38 features\n",
    "# Let's now Normalize the dataset"
   ]
  },
  {
   "cell_type": "code",
   "execution_count": 597,
   "metadata": {},
   "outputs": [
    {
     "name": "stderr",
     "output_type": "stream",
     "text": [
      "/home/vikash/anaconda3/lib/python3.5/site-packages/sklearn/preprocessing/data.py:323: DataConversionWarning: Data with input dtype uint8, int64 were all converted to float64 by MinMaxScaler.\n",
      "  return self.partial_fit(X, y)\n"
     ]
    }
   ],
   "source": [
    "scaler = MinMaxScaler()\n",
    "scaler.fit(Xtrain)\n",
    "X_train = scaler.transform(Xtrain) \n",
    "X_test = scaler.transform(Xtest)\n",
    "X_val = scaler.transform(Xval)\n",
    "Y_test = Ytest\n",
    "Y_val = Yval\n",
    "Y_train = Ytrain"
   ]
  },
  {
   "cell_type": "code",
   "execution_count": 676,
   "metadata": {},
   "outputs": [],
   "source": [
    "# Let's train a normal Linear Regression on our data set\n",
    "reg = LinearRegression().fit(X_train, Y_train)"
   ]
  },
  {
   "cell_type": "code",
   "execution_count": 677,
   "metadata": {},
   "outputs": [],
   "source": [
    "Ytest_predict = reg.predict(X_test)"
   ]
  },
  {
   "cell_type": "code",
   "execution_count": 678,
   "metadata": {},
   "outputs": [],
   "source": [
    "def mean_absolute_percentage_error(y_true, y_pred): \n",
    "    return np.mean(np.abs((y_true - y_pred) / y_true)) * 100"
   ]
  },
  {
   "cell_type": "code",
   "execution_count": 679,
   "metadata": {},
   "outputs": [],
   "source": [
    "reg_test_mape = mean_absolute_percentage_error(Y_test,Ytest_predict)"
   ]
  },
  {
   "cell_type": "code",
   "execution_count": 680,
   "metadata": {},
   "outputs": [
    {
     "data": {
      "text/plain": [
       "1.2157057502504958"
      ]
     },
     "execution_count": 680,
     "metadata": {},
     "output_type": "execute_result"
    }
   ],
   "source": [
    "reg_test_mape"
   ]
  },
  {
   "cell_type": "code",
   "execution_count": 681,
   "metadata": {},
   "outputs": [],
   "source": [
    "Yval_predict = reg.predict(X_val)"
   ]
  },
  {
   "cell_type": "code",
   "execution_count": 682,
   "metadata": {},
   "outputs": [],
   "source": [
    "reg_val_mape = mean_absolute_percentage_error(Y_val,Yval_predict)"
   ]
  },
  {
   "cell_type": "code",
   "execution_count": 683,
   "metadata": {},
   "outputs": [
    {
     "data": {
      "text/plain": [
       "1.2019220450323986"
      ]
     },
     "execution_count": 683,
     "metadata": {},
     "output_type": "execute_result"
    }
   ],
   "source": [
    "reg_val_mape"
   ]
  },
  {
   "cell_type": "markdown",
   "metadata": {},
   "source": [
    "# Inference : We got 1.2% error in our test and validation dataset. There's no overfittig condition here, so we can omit L1 or L2 regularization"
   ]
  },
  {
   "cell_type": "code",
   "execution_count": 659,
   "metadata": {},
   "outputs": [],
   "source": [
    "# Lasso regression can be applied, but we only get increase in error. So I've commented this code section\n",
    "# reg1 = Lasso(0.01)\n",
    "# reg1.fit(X_train,Y_train)\n",
    "# Ytest_predict = reg1.predict(X_test)\n",
    "# mape2 = mean_absolute_percentage_error(Y_test,Ytest_predict)\n",
    "# print (mape2)"
   ]
  },
  {
   "cell_type": "markdown",
   "metadata": {},
   "source": [
    "### I'm a great supporter of Deep Learning. Although we have very few dataset in our training example, let's train a simple neural network using keras. \n",
    "### I'm exited to see if neural net can out perform normal linear regression"
   ]
  },
  {
   "cell_type": "code",
   "execution_count": 642,
   "metadata": {},
   "outputs": [
    {
     "name": "stdout",
     "output_type": "stream",
     "text": [
      "_________________________________________________________________\n",
      "Layer (type)                 Output Shape              Param #   \n",
      "=================================================================\n",
      "dense (Dense)                (None, 16)                624       \n",
      "_________________________________________________________________\n",
      "dense_1 (Dense)              (None, 8)                 136       \n",
      "_________________________________________________________________\n",
      "dense_2 (Dense)              (None, 1)                 9         \n",
      "=================================================================\n",
      "Total params: 769\n",
      "Trainable params: 769\n",
      "Non-trainable params: 0\n",
      "_________________________________________________________________\n"
     ]
    }
   ],
   "source": [
    "model = Sequential()\n",
    "model.add(Dense(16, input_dim = 38, kernel_initializer='normal', activation='relu'))\n",
    "model.add(Dense(8, activation='relu'))\n",
    "model.add(Dense(1, activation='linear'))\n",
    "model.summary()"
   ]
  },
  {
   "cell_type": "code",
   "execution_count": 666,
   "metadata": {},
   "outputs": [],
   "source": [
    "model.compile(loss='mape', optimizer='adam', metrics=['mape'])"
   ]
  },
  {
   "cell_type": "code",
   "execution_count": 667,
   "metadata": {},
   "outputs": [
    {
     "name": "stdout",
     "output_type": "stream",
     "text": [
      "Train on 175 samples, validate on 88 samples\n",
      "Epoch 1/100\n",
      " - 0s - loss: 0.9193 - mean_absolute_percentage_error: 0.9193 - val_loss: 0.8001 - val_mean_absolute_percentage_error: 0.8001\n",
      "Epoch 2/100\n",
      " - 0s - loss: 0.8772 - mean_absolute_percentage_error: 0.8772 - val_loss: 0.7159 - val_mean_absolute_percentage_error: 0.7159\n",
      "Epoch 3/100\n",
      " - 0s - loss: 0.8604 - mean_absolute_percentage_error: 0.8604 - val_loss: 0.6757 - val_mean_absolute_percentage_error: 0.6757\n",
      "Epoch 4/100\n",
      " - 0s - loss: 0.8559 - mean_absolute_percentage_error: 0.8559 - val_loss: 0.8429 - val_mean_absolute_percentage_error: 0.8429\n",
      "Epoch 5/100\n",
      " - 0s - loss: 0.9263 - mean_absolute_percentage_error: 0.9263 - val_loss: 0.8074 - val_mean_absolute_percentage_error: 0.8074\n",
      "Epoch 6/100\n",
      " - 0s - loss: 0.8435 - mean_absolute_percentage_error: 0.8435 - val_loss: 0.7148 - val_mean_absolute_percentage_error: 0.7148\n",
      "Epoch 7/100\n",
      " - 0s - loss: 0.8226 - mean_absolute_percentage_error: 0.8226 - val_loss: 0.6625 - val_mean_absolute_percentage_error: 0.6625\n",
      "Epoch 8/100\n",
      " - 0s - loss: 0.8591 - mean_absolute_percentage_error: 0.8591 - val_loss: 0.6504 - val_mean_absolute_percentage_error: 0.6504\n",
      "Epoch 9/100\n",
      " - 0s - loss: 0.7858 - mean_absolute_percentage_error: 0.7858 - val_loss: 0.7084 - val_mean_absolute_percentage_error: 0.7084\n",
      "Epoch 10/100\n",
      " - 0s - loss: 0.8270 - mean_absolute_percentage_error: 0.8270 - val_loss: 0.6739 - val_mean_absolute_percentage_error: 0.6739\n",
      "Epoch 11/100\n",
      " - 0s - loss: 0.8571 - mean_absolute_percentage_error: 0.8571 - val_loss: 0.7549 - val_mean_absolute_percentage_error: 0.7549\n",
      "Epoch 12/100\n",
      " - 0s - loss: 0.8231 - mean_absolute_percentage_error: 0.8231 - val_loss: 0.6580 - val_mean_absolute_percentage_error: 0.6580\n",
      "Epoch 13/100\n",
      " - 0s - loss: 0.8075 - mean_absolute_percentage_error: 0.8075 - val_loss: 0.6650 - val_mean_absolute_percentage_error: 0.6650\n",
      "Epoch 14/100\n",
      " - 0s - loss: 0.8267 - mean_absolute_percentage_error: 0.8267 - val_loss: 0.7823 - val_mean_absolute_percentage_error: 0.7823\n",
      "Epoch 15/100\n",
      " - 0s - loss: 0.8961 - mean_absolute_percentage_error: 0.8961 - val_loss: 0.7194 - val_mean_absolute_percentage_error: 0.7194\n",
      "Epoch 16/100\n",
      " - 0s - loss: 0.8334 - mean_absolute_percentage_error: 0.8334 - val_loss: 0.6807 - val_mean_absolute_percentage_error: 0.6807\n",
      "Epoch 17/100\n",
      " - 0s - loss: 0.8054 - mean_absolute_percentage_error: 0.8054 - val_loss: 0.6713 - val_mean_absolute_percentage_error: 0.6713\n",
      "Epoch 18/100\n",
      " - 0s - loss: 0.7987 - mean_absolute_percentage_error: 0.7987 - val_loss: 0.6499 - val_mean_absolute_percentage_error: 0.6499\n",
      "Epoch 19/100\n",
      " - 0s - loss: 0.7896 - mean_absolute_percentage_error: 0.7896 - val_loss: 0.6620 - val_mean_absolute_percentage_error: 0.6620\n",
      "Epoch 20/100\n",
      " - 0s - loss: 0.7915 - mean_absolute_percentage_error: 0.7915 - val_loss: 0.7053 - val_mean_absolute_percentage_error: 0.7053\n",
      "Epoch 21/100\n",
      " - 0s - loss: 0.7795 - mean_absolute_percentage_error: 0.7795 - val_loss: 0.6591 - val_mean_absolute_percentage_error: 0.6591\n",
      "Epoch 22/100\n",
      " - 0s - loss: 0.7962 - mean_absolute_percentage_error: 0.7962 - val_loss: 0.8283 - val_mean_absolute_percentage_error: 0.8283\n",
      "Epoch 23/100\n",
      " - 0s - loss: 0.8763 - mean_absolute_percentage_error: 0.8763 - val_loss: 0.7258 - val_mean_absolute_percentage_error: 0.7258\n",
      "Epoch 24/100\n",
      " - 0s - loss: 0.9192 - mean_absolute_percentage_error: 0.9192 - val_loss: 0.8152 - val_mean_absolute_percentage_error: 0.8152\n",
      "Epoch 25/100\n",
      " - 0s - loss: 0.8479 - mean_absolute_percentage_error: 0.8479 - val_loss: 0.6502 - val_mean_absolute_percentage_error: 0.6502\n",
      "Epoch 26/100\n",
      " - 0s - loss: 0.8082 - mean_absolute_percentage_error: 0.8082 - val_loss: 0.6916 - val_mean_absolute_percentage_error: 0.6916\n",
      "Epoch 27/100\n",
      " - 0s - loss: 0.7930 - mean_absolute_percentage_error: 0.7930 - val_loss: 0.6947 - val_mean_absolute_percentage_error: 0.6947\n",
      "Epoch 28/100\n",
      " - 0s - loss: 0.7486 - mean_absolute_percentage_error: 0.7486 - val_loss: 0.6699 - val_mean_absolute_percentage_error: 0.6699\n",
      "Epoch 29/100\n",
      " - 0s - loss: 0.8029 - mean_absolute_percentage_error: 0.8029 - val_loss: 0.6825 - val_mean_absolute_percentage_error: 0.6825\n",
      "Epoch 30/100\n",
      " - 0s - loss: 0.8013 - mean_absolute_percentage_error: 0.8013 - val_loss: 0.6466 - val_mean_absolute_percentage_error: 0.6466\n",
      "Epoch 31/100\n",
      " - 0s - loss: 0.8005 - mean_absolute_percentage_error: 0.8005 - val_loss: 0.6831 - val_mean_absolute_percentage_error: 0.6831\n",
      "Epoch 32/100\n",
      " - 0s - loss: 0.7803 - mean_absolute_percentage_error: 0.7803 - val_loss: 0.6377 - val_mean_absolute_percentage_error: 0.6377\n",
      "Epoch 33/100\n",
      " - 0s - loss: 0.7704 - mean_absolute_percentage_error: 0.7704 - val_loss: 0.6764 - val_mean_absolute_percentage_error: 0.6764\n",
      "Epoch 34/100\n",
      " - 0s - loss: 0.8215 - mean_absolute_percentage_error: 0.8215 - val_loss: 0.6660 - val_mean_absolute_percentage_error: 0.6660\n",
      "Epoch 35/100\n",
      " - 0s - loss: 0.7852 - mean_absolute_percentage_error: 0.7852 - val_loss: 0.7379 - val_mean_absolute_percentage_error: 0.7379\n",
      "Epoch 36/100\n",
      " - 0s - loss: 0.8012 - mean_absolute_percentage_error: 0.8012 - val_loss: 0.6612 - val_mean_absolute_percentage_error: 0.6612\n",
      "Epoch 37/100\n",
      " - 0s - loss: 0.8305 - mean_absolute_percentage_error: 0.8305 - val_loss: 0.7158 - val_mean_absolute_percentage_error: 0.7158\n",
      "Epoch 38/100\n",
      " - 0s - loss: 0.7856 - mean_absolute_percentage_error: 0.7856 - val_loss: 0.6910 - val_mean_absolute_percentage_error: 0.6910\n",
      "Epoch 39/100\n",
      " - 0s - loss: 0.7840 - mean_absolute_percentage_error: 0.7840 - val_loss: 0.6387 - val_mean_absolute_percentage_error: 0.6387\n",
      "Epoch 40/100\n",
      " - 0s - loss: 0.8350 - mean_absolute_percentage_error: 0.8350 - val_loss: 0.6752 - val_mean_absolute_percentage_error: 0.6752\n",
      "Epoch 41/100\n",
      " - 0s - loss: 0.7773 - mean_absolute_percentage_error: 0.7773 - val_loss: 0.6258 - val_mean_absolute_percentage_error: 0.6258\n",
      "Epoch 42/100\n",
      " - 0s - loss: 0.7410 - mean_absolute_percentage_error: 0.7410 - val_loss: 0.6300 - val_mean_absolute_percentage_error: 0.6300\n",
      "Epoch 43/100\n",
      " - 0s - loss: 0.7954 - mean_absolute_percentage_error: 0.7954 - val_loss: 0.6567 - val_mean_absolute_percentage_error: 0.6567\n",
      "Epoch 44/100\n",
      " - 0s - loss: 0.8004 - mean_absolute_percentage_error: 0.8004 - val_loss: 0.7051 - val_mean_absolute_percentage_error: 0.7051\n",
      "Epoch 45/100\n",
      " - 0s - loss: 0.9646 - mean_absolute_percentage_error: 0.9646 - val_loss: 0.9299 - val_mean_absolute_percentage_error: 0.9299\n",
      "Epoch 46/100\n",
      " - 0s - loss: 0.9297 - mean_absolute_percentage_error: 0.9297 - val_loss: 0.7006 - val_mean_absolute_percentage_error: 0.7006\n",
      "Epoch 47/100\n",
      " - 0s - loss: 0.7985 - mean_absolute_percentage_error: 0.7985 - val_loss: 0.6617 - val_mean_absolute_percentage_error: 0.6617\n",
      "Epoch 48/100\n",
      " - 0s - loss: 0.7674 - mean_absolute_percentage_error: 0.7674 - val_loss: 0.7047 - val_mean_absolute_percentage_error: 0.7047\n",
      "Epoch 49/100\n",
      " - 0s - loss: 0.8695 - mean_absolute_percentage_error: 0.8695 - val_loss: 0.8047 - val_mean_absolute_percentage_error: 0.8047\n",
      "Epoch 50/100\n",
      " - 0s - loss: 0.9010 - mean_absolute_percentage_error: 0.9010 - val_loss: 0.7101 - val_mean_absolute_percentage_error: 0.7101\n",
      "Epoch 51/100\n",
      " - 0s - loss: 0.8503 - mean_absolute_percentage_error: 0.8503 - val_loss: 0.6820 - val_mean_absolute_percentage_error: 0.6820\n",
      "Epoch 52/100\n",
      " - 0s - loss: 0.7932 - mean_absolute_percentage_error: 0.7932 - val_loss: 0.6466 - val_mean_absolute_percentage_error: 0.6466\n",
      "Epoch 53/100\n",
      " - 0s - loss: 0.7728 - mean_absolute_percentage_error: 0.7728 - val_loss: 0.7884 - val_mean_absolute_percentage_error: 0.7884\n",
      "Epoch 54/100\n",
      " - 0s - loss: 0.8105 - mean_absolute_percentage_error: 0.8105 - val_loss: 0.6551 - val_mean_absolute_percentage_error: 0.6551\n",
      "Epoch 55/100\n",
      " - 0s - loss: 0.8119 - mean_absolute_percentage_error: 0.8119 - val_loss: 0.7645 - val_mean_absolute_percentage_error: 0.7645\n",
      "Epoch 56/100\n",
      " - 0s - loss: 0.7839 - mean_absolute_percentage_error: 0.7839 - val_loss: 0.6337 - val_mean_absolute_percentage_error: 0.6337\n",
      "Epoch 57/100\n",
      " - 0s - loss: 0.7538 - mean_absolute_percentage_error: 0.7538 - val_loss: 0.6505 - val_mean_absolute_percentage_error: 0.6505\n",
      "Epoch 58/100\n",
      " - 0s - loss: 0.7555 - mean_absolute_percentage_error: 0.7555 - val_loss: 0.6106 - val_mean_absolute_percentage_error: 0.6106\n",
      "Epoch 59/100\n",
      " - 0s - loss: 0.7761 - mean_absolute_percentage_error: 0.7761 - val_loss: 0.6657 - val_mean_absolute_percentage_error: 0.6657\n"
     ]
    },
    {
     "name": "stdout",
     "output_type": "stream",
     "text": [
      "Epoch 60/100\n",
      " - 0s - loss: 0.7208 - mean_absolute_percentage_error: 0.7208 - val_loss: 0.6759 - val_mean_absolute_percentage_error: 0.6759\n",
      "Epoch 61/100\n",
      " - 0s - loss: 0.7130 - mean_absolute_percentage_error: 0.7130 - val_loss: 0.6452 - val_mean_absolute_percentage_error: 0.6452\n",
      "Epoch 62/100\n",
      " - 0s - loss: 0.7308 - mean_absolute_percentage_error: 0.7308 - val_loss: 0.8079 - val_mean_absolute_percentage_error: 0.8079\n",
      "Epoch 63/100\n",
      " - 0s - loss: 0.8197 - mean_absolute_percentage_error: 0.8197 - val_loss: 0.6773 - val_mean_absolute_percentage_error: 0.6773\n",
      "Epoch 64/100\n",
      " - 0s - loss: 0.7278 - mean_absolute_percentage_error: 0.7278 - val_loss: 0.6369 - val_mean_absolute_percentage_error: 0.6369\n",
      "Epoch 65/100\n",
      " - 0s - loss: 0.7393 - mean_absolute_percentage_error: 0.7393 - val_loss: 0.7062 - val_mean_absolute_percentage_error: 0.7062\n",
      "Epoch 66/100\n",
      " - 0s - loss: 0.7990 - mean_absolute_percentage_error: 0.7990 - val_loss: 0.6722 - val_mean_absolute_percentage_error: 0.6722\n",
      "Epoch 67/100\n",
      " - 0s - loss: 0.7720 - mean_absolute_percentage_error: 0.7720 - val_loss: 0.7455 - val_mean_absolute_percentage_error: 0.7455\n",
      "Epoch 68/100\n",
      " - 0s - loss: 0.7908 - mean_absolute_percentage_error: 0.7908 - val_loss: 0.6030 - val_mean_absolute_percentage_error: 0.6030\n",
      "Epoch 69/100\n",
      " - 0s - loss: 0.7341 - mean_absolute_percentage_error: 0.7341 - val_loss: 0.6380 - val_mean_absolute_percentage_error: 0.6380\n",
      "Epoch 70/100\n",
      " - 0s - loss: 0.7232 - mean_absolute_percentage_error: 0.7232 - val_loss: 0.5930 - val_mean_absolute_percentage_error: 0.5930\n",
      "Epoch 71/100\n",
      " - 0s - loss: 0.7673 - mean_absolute_percentage_error: 0.7673 - val_loss: 0.6928 - val_mean_absolute_percentage_error: 0.6928\n",
      "Epoch 72/100\n",
      " - 0s - loss: 0.8145 - mean_absolute_percentage_error: 0.8145 - val_loss: 0.6198 - val_mean_absolute_percentage_error: 0.6198\n",
      "Epoch 73/100\n",
      " - 0s - loss: 0.7392 - mean_absolute_percentage_error: 0.7392 - val_loss: 0.6100 - val_mean_absolute_percentage_error: 0.6100\n",
      "Epoch 74/100\n",
      " - 0s - loss: 0.7444 - mean_absolute_percentage_error: 0.7444 - val_loss: 0.6817 - val_mean_absolute_percentage_error: 0.6817\n",
      "Epoch 75/100\n",
      " - 0s - loss: 0.7641 - mean_absolute_percentage_error: 0.7641 - val_loss: 0.6622 - val_mean_absolute_percentage_error: 0.6622\n",
      "Epoch 76/100\n",
      " - 0s - loss: 0.7618 - mean_absolute_percentage_error: 0.7618 - val_loss: 0.6638 - val_mean_absolute_percentage_error: 0.6638\n",
      "Epoch 77/100\n",
      " - 0s - loss: 0.6934 - mean_absolute_percentage_error: 0.6934 - val_loss: 0.6592 - val_mean_absolute_percentage_error: 0.6592\n",
      "Epoch 78/100\n",
      " - 0s - loss: 0.7240 - mean_absolute_percentage_error: 0.7240 - val_loss: 0.6145 - val_mean_absolute_percentage_error: 0.6145\n",
      "Epoch 79/100\n",
      " - 0s - loss: 0.7300 - mean_absolute_percentage_error: 0.7300 - val_loss: 0.6631 - val_mean_absolute_percentage_error: 0.6631\n",
      "Epoch 80/100\n",
      " - 0s - loss: 0.7512 - mean_absolute_percentage_error: 0.7512 - val_loss: 0.6301 - val_mean_absolute_percentage_error: 0.6301\n",
      "Epoch 81/100\n",
      " - 0s - loss: 0.7790 - mean_absolute_percentage_error: 0.7790 - val_loss: 0.5924 - val_mean_absolute_percentage_error: 0.5924\n",
      "Epoch 82/100\n",
      " - 0s - loss: 0.7550 - mean_absolute_percentage_error: 0.7550 - val_loss: 0.6595 - val_mean_absolute_percentage_error: 0.6595\n",
      "Epoch 83/100\n",
      " - 0s - loss: 0.7677 - mean_absolute_percentage_error: 0.7677 - val_loss: 0.6476 - val_mean_absolute_percentage_error: 0.6476\n",
      "Epoch 84/100\n",
      " - 0s - loss: 0.7197 - mean_absolute_percentage_error: 0.7197 - val_loss: 0.7559 - val_mean_absolute_percentage_error: 0.7559\n",
      "Epoch 85/100\n",
      " - 0s - loss: 0.7274 - mean_absolute_percentage_error: 0.7274 - val_loss: 0.6373 - val_mean_absolute_percentage_error: 0.6373\n",
      "Epoch 86/100\n",
      " - 0s - loss: 0.7143 - mean_absolute_percentage_error: 0.7143 - val_loss: 0.6651 - val_mean_absolute_percentage_error: 0.6651\n",
      "Epoch 87/100\n",
      " - 0s - loss: 0.7156 - mean_absolute_percentage_error: 0.7156 - val_loss: 0.6361 - val_mean_absolute_percentage_error: 0.6361\n",
      "Epoch 88/100\n",
      " - 0s - loss: 0.7243 - mean_absolute_percentage_error: 0.7243 - val_loss: 0.6757 - val_mean_absolute_percentage_error: 0.6757\n",
      "Epoch 89/100\n",
      " - 0s - loss: 0.7020 - mean_absolute_percentage_error: 0.7020 - val_loss: 0.7236 - val_mean_absolute_percentage_error: 0.7236\n",
      "Epoch 90/100\n",
      " - 0s - loss: 0.7389 - mean_absolute_percentage_error: 0.7389 - val_loss: 0.6555 - val_mean_absolute_percentage_error: 0.6555\n",
      "Epoch 91/100\n",
      " - 0s - loss: 0.7420 - mean_absolute_percentage_error: 0.7420 - val_loss: 0.6033 - val_mean_absolute_percentage_error: 0.6033\n",
      "Epoch 92/100\n",
      " - 0s - loss: 0.7135 - mean_absolute_percentage_error: 0.7135 - val_loss: 0.6070 - val_mean_absolute_percentage_error: 0.6070\n",
      "Epoch 93/100\n",
      " - 0s - loss: 0.7302 - mean_absolute_percentage_error: 0.7302 - val_loss: 0.6523 - val_mean_absolute_percentage_error: 0.6523\n",
      "Epoch 94/100\n",
      " - 0s - loss: 0.8366 - mean_absolute_percentage_error: 0.8366 - val_loss: 0.6758 - val_mean_absolute_percentage_error: 0.6758\n",
      "Epoch 95/100\n",
      " - 0s - loss: 0.7215 - mean_absolute_percentage_error: 0.7215 - val_loss: 0.6017 - val_mean_absolute_percentage_error: 0.6017\n",
      "Epoch 96/100\n",
      " - 0s - loss: 0.7651 - mean_absolute_percentage_error: 0.7651 - val_loss: 0.6264 - val_mean_absolute_percentage_error: 0.6264\n",
      "Epoch 97/100\n",
      " - 0s - loss: 0.7332 - mean_absolute_percentage_error: 0.7332 - val_loss: 0.6161 - val_mean_absolute_percentage_error: 0.6161\n",
      "Epoch 98/100\n",
      " - 0s - loss: 0.7580 - mean_absolute_percentage_error: 0.7580 - val_loss: 0.9105 - val_mean_absolute_percentage_error: 0.9105\n",
      "Epoch 99/100\n",
      " - 0s - loss: 0.7959 - mean_absolute_percentage_error: 0.7959 - val_loss: 0.8394 - val_mean_absolute_percentage_error: 0.8394\n",
      "Epoch 100/100\n",
      " - 0s - loss: 0.8446 - mean_absolute_percentage_error: 0.8446 - val_loss: 0.6268 - val_mean_absolute_percentage_error: 0.6268\n"
     ]
    }
   ],
   "source": [
    "history = model.fit(X_train, Y_train, batch_size = 10, epochs = 100, \n",
    "         validation_data = (X_val, Y_val), verbose = 2)"
   ]
  },
  {
   "cell_type": "code",
   "execution_count": 668,
   "metadata": {},
   "outputs": [],
   "source": [
    "results = model.predict(X_test)"
   ]
  },
  {
   "cell_type": "code",
   "execution_count": 671,
   "metadata": {},
   "outputs": [],
   "source": [
    "val_mapes = history.history['val_loss']"
   ]
  },
  {
   "cell_type": "code",
   "execution_count": 684,
   "metadata": {},
   "outputs": [],
   "source": [
    "nn_val_mape = val_mape[-1]"
   ]
  },
  {
   "cell_type": "code",
   "execution_count": 685,
   "metadata": {},
   "outputs": [
    {
     "data": {
      "text/plain": [
       "0.6268240294673226"
      ]
     },
     "execution_count": 685,
     "metadata": {},
     "output_type": "execute_result"
    }
   ],
   "source": [
    "nn_val_mape"
   ]
  },
  {
   "cell_type": "markdown",
   "metadata": {},
   "source": [
    "## Woah! That's a drastic decrease in error. 0.62%, whereas error in linear regression was 1.2%\n",
    "### Thus, NN helped us decrease error by almost 50%\n",
    "### Further training in NN may decrease error further. "
   ]
  },
  {
   "cell_type": "markdown",
   "metadata": {},
   "source": [
    "# PHASE 4 : Conclusion-\n",
    "IMdb rating could be predicted with the given features. Although to check the correctness of the model, we may need more and more data. Also, many features like story-summary, director name, writers name, etc. could be used to improve the model.\n",
    "# TO DO:\n",
    "1. USE NLP or some appropriate methods to generate information from story_summary, director's name, writer's name, stars, plot keywords etc.\n",
    "2. Improve our model using different coefficients, loss measure, or hyperparameter tuning"
   ]
  },
  {
   "cell_type": "code",
   "execution_count": null,
   "metadata": {},
   "outputs": [],
   "source": []
  }
 ],
 "metadata": {
  "kernelspec": {
   "display_name": "Python 3",
   "language": "python",
   "name": "python3"
  },
  "language_info": {
   "codemirror_mode": {
    "name": "ipython",
    "version": 3
   },
   "file_extension": ".py",
   "mimetype": "text/x-python",
   "name": "python",
   "nbconvert_exporter": "python",
   "pygments_lexer": "ipython3",
   "version": "3.5.0"
  }
 },
 "nbformat": 4,
 "nbformat_minor": 2
}
